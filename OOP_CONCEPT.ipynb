{
  "cells": [
    {
      "cell_type": "markdown",
      "metadata": {
        "id": "view-in-github",
        "colab_type": "text"
      },
      "source": [
        "<a href=\"https://colab.research.google.com/github/hannahdirecto/CPE-103-OOP-1-A/blob/main/OOP_CONCEPT.ipynb\" target=\"_parent\"><img src=\"https://colab.research.google.com/assets/colab-badge.svg\" alt=\"Open In Colab\"/></a>"
      ]
    },
    {
      "cell_type": "markdown",
      "metadata": {
        "id": "rZzBYuNH7wXx"
      },
      "source": [
        "Class Constructor"
      ]
    },
    {
      "cell_type": "code",
      "execution_count": null,
      "metadata": {
        "id": "-X-IZ1WC6A9g"
      },
      "outputs": [],
      "source": [
        "class Car:\n",
        "  def __init__(self,name,model,color):\n",
        "    self.name=name\n",
        "    self.model=model\n",
        "    self.color=color\n",
        "  pass"
      ]
    },
    {
      "cell_type": "markdown",
      "metadata": {
        "id": "ND5EQgxu9mAC"
      },
      "source": [
        "Class Method"
      ]
    },
    {
      "cell_type": "code",
      "execution_count": null,
      "metadata": {
        "id": "VfR9EyS99-2B"
      },
      "outputs": [],
      "source": [
        "class Car:\n",
        "  car_type= \"Sedan\"\n",
        "\n",
        "  def __init__(self,name,mileage):\n",
        "    self.name=name\n",
        "    self.mileage=mileage\n",
        "\n",
        "  def description(self):\n",
        "    return f\"The {self.name} car gives the mileage of {self.mileage}km/l\"\n",
        "\n",
        "  def max_speed(sel, speed):\n",
        "    return \"The {self.name} runs at the maximum speed of {speed}km/hr\""
      ]
    },
    {
      "cell_type": "markdown",
      "metadata": {
        "id": "A9g0nBZx-zYC"
      },
      "source": [
        "Multiple Object with the same class"
      ]
    },
    {
      "cell_type": "code",
      "execution_count": 56,
      "metadata": {
        "collapsed": true,
        "id": "JGemg7aC_bth",
        "colab": {
          "base_uri": "https://localhost:8080/"
        },
        "outputId": "220b5eb2-6df5-4062-e845-e0854c6028ac"
      },
      "outputs": [
        {
          "output_type": "stream",
          "name": "stdout",
          "text": [
            "The BMW 7-series car gives the mileage of 39.53km/l\n"
          ]
        }
      ],
      "source": [
        "class Car:    #parent class\n",
        "    def __init__(self, name, mileage):\n",
        "        self.name = name\n",
        "        self.mileage = mileage\n",
        "\n",
        "    def description(self):\n",
        "        return f\"The {self.name} car gives the mileage of {self.mileage}km/l\"\n",
        "\n",
        "class BMW(Car):     #child class\n",
        "    pass\n",
        "\n",
        "class Audi(Car):\n",
        "    def audi_desc(self):\n",
        "        return \"This is the description method of class Audi.\"\n",
        "\n",
        "    bmw = BMW (\"BMW 7-series\", 39.53)\n",
        "    print(bmw.description())\n",
        "\n",
        "\n"
      ]
    },
    {
      "cell_type": "markdown",
      "source": [
        "Apply the OOP concept like class constructor, methods, inheritance to describe the sides of shapes ( e.g. Triangle, Square, Rectangle)"
      ],
      "metadata": {
        "id": "1Qkg9do0F_ci"
      }
    },
    {
      "cell_type": "code",
      "source": [
        "class Shapes:\n",
        "   def __init__(self,name,side):\n",
        "    self.name=name\n",
        "    self.side=side\n",
        "\n",
        "\n",
        "   def description(self):\n",
        "    return f\"The {self.name} has {self.side} sides\"\n",
        "\n",
        "class rectangle(Shapes):\n",
        "  pass\n",
        "class hexagon(Shapes):\n",
        "  pass\n",
        "class octagon(Shapes):\n",
        "  pass\n",
        "\n",
        "rectangle=rectangle(\"rectangle\",4)\n",
        "print(rectangle.description())\n",
        "\n",
        "hexagon=hexagon(\"hexagon\",6)\n",
        "print(hexagon.description())\n",
        "\n",
        "octagon=octagon(\"octagon\",8)\n",
        "print(octagon.description())"
      ],
      "metadata": {
        "colab": {
          "base_uri": "https://localhost:8080/"
        },
        "id": "t1uxPVoYGRMo",
        "outputId": "f34a23f9-7247-431e-de79-f99a03474d6f"
      },
      "execution_count": 78,
      "outputs": [
        {
          "output_type": "stream",
          "name": "stdout",
          "text": [
            "The rectangle has 4 sides\n",
            "The hexagon has 6 sides\n",
            "The octagon has 8 sides\n"
          ]
        }
      ]
    }
  ],
  "metadata": {
    "colab": {
      "provenance": [],
      "authorship_tag": "ABX9TyMkclwp7ERBZvFcvfh701H6",
      "include_colab_link": true
    },
    "kernelspec": {
      "display_name": "Python 3",
      "name": "python3"
    },
    "language_info": {
      "name": "python"
    }
  },
  "nbformat": 4,
  "nbformat_minor": 0
}