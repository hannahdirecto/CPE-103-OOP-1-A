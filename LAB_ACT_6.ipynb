{
  "cells": [
    {
      "cell_type": "markdown",
      "metadata": {
        "id": "view-in-github",
        "colab_type": "text"
      },
      "source": [
        "<a href=\"https://colab.research.google.com/github/hannahdirecto/CPE-103-OOP-1-A/blob/main/LAB_ACT_6.ipynb\" target=\"_parent\"><img src=\"https://colab.research.google.com/assets/colab-badge.svg\" alt=\"Open In Colab\"/></a>"
      ]
    },
    {
      "cell_type": "markdown",
      "metadata": {
        "id": "5PapagOZNURv"
      },
      "source": [
        "Character.py"
      ]
    },
    {
      "cell_type": "code",
      "execution_count": null,
      "metadata": {
        "colab": {
          "base_uri": "https://localhost:8080/"
        },
        "id": "hHBqye5oqpkO",
        "outputId": "8bd7e37f-6280-4b21-afcf-cbc55786c4f3"
      },
      "outputs": [
        {
          "output_type": "stream",
          "name": "stdout",
          "text": [
            "Hnnhth\n"
          ]
        }
      ],
      "source": [
        "class Character():\n",
        "    def __init__(self, username):\n",
        "        self.__username = username\n",
        "        self.__hp= 100\n",
        "        self.__mana = 100\n",
        "        self.__damage = 5\n",
        "        self.__str = 0 #strength stat\n",
        "        self.__vit = 0 #vitality stat\n",
        "        self.__int = 0 #intelligence stat\n",
        "        self.__agi = 0 #agility stat\n",
        "\n",
        "    def getUsername(self):\n",
        "        return self.__username\n",
        "\n",
        "    def setUsername(self, new_username):\n",
        "        self.__username = new_username\n",
        "\n",
        "    def getHp(self):\n",
        "        return self.__hp\n",
        "\n",
        "    def setHp(self, new_hp):\n",
        "        self.__hp = new_hp\n",
        "\n",
        "    def getDamage(self):\n",
        "        return self.__damage\n",
        "\n",
        "    def setDamage(self, new_damage):\n",
        "        self.__damage = new_damage\n",
        "\n",
        "    def getStr(self):\n",
        "        return self.__str\n",
        "\n",
        "    def setStr(self, new_str):\n",
        "        self.__str = new_str\n",
        "\n",
        "    def getVit(self):\n",
        "        return self.__vit\n",
        "\n",
        "    def setVit(self, new_vit):\n",
        "        self.__vit = new_vit\n",
        "\n",
        "    def getInt(self):\n",
        "        return self.__int\n",
        "\n",
        "    def setInt(self, new_int):\n",
        "        self.__int = new_int\n",
        "\n",
        "    def getAgi(self):\n",
        "        return self.__agi\n",
        "\n",
        "    def setAgi(self, new_agi):\n",
        "        self.__agi = new_agi\n",
        "\n",
        "    def reduceHp(self, damage_amount):\n",
        "        self.__hp = self.__hp - damage_amount\n",
        "\n",
        "    def addHp(self, heal_amount):\n",
        "        self.__hp = self.__hp + heal_amount\n",
        "\n",
        "character1 = Character(\"Hnnhth\")\n",
        "\n",
        "print(character1.getUsername())"
      ]
    },
    {
      "cell_type": "markdown",
      "metadata": {
        "id": "I8XI2jTaNYAl"
      },
      "source": [
        "Novice.py"
      ]
    },
    {
      "cell_type": "code",
      "execution_count": null,
      "metadata": {
        "colab": {
          "base_uri": "https://localhost:8080/"
        },
        "id": "nONEAbQ6yi-x",
        "outputId": "81cd17eb-21a3-46b9-b55a-01be56e31508"
      },
      "outputs": [
        {
          "output_type": "stream",
          "name": "stdout",
          "text": [
            "Hnnhth\n",
            "100\n"
          ]
        }
      ],
      "source": [
        "class Novice(Character):\n",
        "    def basicAttack(self, character):\n",
        "        character.reduceHp(self.getDamage())\n",
        "        print(f\"{self.getUsername()} performed Basic Attack! Damage:{self.getDamage()}\")\n",
        "\n",
        "character1 = Novice(\"Hnnhth\")\n",
        "print(character1.getUsername())\n",
        "print(character1.getHp())"
      ]
    },
    {
      "cell_type": "markdown",
      "metadata": {
        "id": "fOjpNcN0PAzU"
      },
      "source": [
        "Multi-Level Inheritance"
      ]
    },
    {
      "cell_type": "markdown",
      "source": [
        "Swordman.py"
      ],
      "metadata": {
        "id": "OMKDZdY8UYWu"
      }
    },
    {
      "cell_type": "code",
      "execution_count": null,
      "metadata": {
        "id": "M8WaAD1APF8d"
      },
      "outputs": [],
      "source": [
        "class Swordsman(Novice):\n",
        "   def __init__(self, username):\n",
        "       super().__init__(username)\n",
        "       self.setStr(5)\n",
        "       self.setVit(10)\n",
        "       self.setHp(self.getHp()+self.getVit())\n",
        "\n",
        "   def slashAttack(self, character):\n",
        "       self.new_damage = self.getDamage()+self.getStr()\n",
        "       character.reduceHp(self.new_damage)\n",
        "       print(f\"{self.getUsername()} performed Slash Attack! - {self.new_damage}\")\n",
        "\n"
      ]
    },
    {
      "cell_type": "markdown",
      "source": [
        "Archer.py\n"
      ],
      "metadata": {
        "id": "x1mU5ZabUXa6"
      }
    },
    {
      "cell_type": "code",
      "source": [
        "import random\n",
        "\n",
        "class Archer(Novice):\n",
        "    def __init__(self, username):\n",
        "        super(). __init__(username)\n",
        "        self.setAgi(5)\n",
        "        self.setInt(5)\n",
        "        self.setVit(5)\n",
        "        self.setHp(self.getHp() + self.getVit())\n",
        "\n",
        "    def rangedAttack(self, character):\n",
        "        self.new_damage = self.getDamage() + random.randint(0, self.getInt())\n",
        "        character.reduceHp(self.new_damage)\n",
        "        print(f\"{self.getUsername()} performed Ranged Attack! - {self.new_damage}\")"
      ],
      "metadata": {
        "id": "Jl-fnr6SUgqc"
      },
      "execution_count": null,
      "outputs": []
    },
    {
      "cell_type": "markdown",
      "source": [
        "Magician.py"
      ],
      "metadata": {
        "id": "fE6Dwa2rU3UR"
      }
    },
    {
      "cell_type": "code",
      "source": [
        "class Magician(Novice):\n",
        "    def __init__(self, username):\n",
        "        super().__init__(username)\n",
        "        self.setInt(10)\n",
        "        self.setVit(5)\n",
        "        self.setHp(self.getHp()+self.getVit())\n",
        "\n",
        "    def heal(self):\n",
        "        self.addHp(self.getInt())\n",
        "        print(f\"{self.getUsername()} performed Heal! + { self.getInt()}\")\n",
        "\n",
        "    def magicAttack(self, character):\n",
        "        self.new_damage = self.getDamage()+self.getInt()\n",
        "        character.reduceHp(self.new_damage)\n",
        "        print(f\"{self.getUsername()} performed Magic Attack! - {self.new_damage}\")"
      ],
      "metadata": {
        "id": "ETcd_BVDXXuL"
      },
      "execution_count": null,
      "outputs": []
    },
    {
      "cell_type": "markdown",
      "source": [
        "Test.py"
      ],
      "metadata": {
        "id": "vVvFcflsah31"
      }
    },
    {
      "cell_type": "code",
      "source": [
        "Character1 = Swordsman (\"Royce\")\n",
        "Character2 = Magician (\"Archie\")\n",
        "print(f\"{Character1.getUsername()} HP: {Character1.getHp()}\")\n",
        "print(f\"{Character2.getUsername()} HP: {Character2.getHp()}\")\n",
        "Character1.slashAttack (Character2)\n",
        "Character1.basicAttack (Character2)\n",
        "print(f\"{Character1.getUsername()} HP: {Character1.getHp()}\")\n",
        "print(f\"{Character2.getUsername()} HP: {Character2.getHp()}\")\n",
        "Character2.heal()\n",
        "Character2.magicAttack (Character1)\n",
        "print(f\"{Character1.getUsername()} HP: {Character1.getHp()}\")\n",
        "print(f\"{Character2.getUsername()} HP: {Character2.getHp()}\")"
      ],
      "metadata": {
        "colab": {
          "base_uri": "https://localhost:8080/"
        },
        "id": "jlRl4V2OakNb",
        "outputId": "35c95f59-6d88-4b5b-c586-cc68d47c268a"
      },
      "execution_count": null,
      "outputs": [
        {
          "output_type": "stream",
          "name": "stdout",
          "text": [
            "Royce HP: 110\n",
            "Archie HP: 105\n",
            "Royce performed Slash Attack! - 10\n",
            "Royce performed Basic Attack! Damage:5\n",
            "Royce HP: 110\n",
            "Archie HP: 90\n",
            "Archie performed Heal! + 10\n",
            "Archie performed Magic Attack! - 15\n",
            "Royce HP: 95\n",
            "Archie HP: 100\n"
          ]
        }
      ]
    },
    {
      "cell_type": "markdown",
      "source": [
        "Multiple Inheritance\n"
      ],
      "metadata": {
        "id": "P6eIUOyNqg8T"
      }
    },
    {
      "cell_type": "markdown",
      "source": [
        "Boss.py"
      ],
      "metadata": {
        "id": "pRGwqphCMxSg"
      }
    },
    {
      "cell_type": "code",
      "source": [
        "class Boss(Swordsman, Archer, Magician):\n",
        "  def __init__(self, username):\n",
        "      super().__init__(username)\n",
        "\n",
        "      self.setStr(10)\n",
        "      self.setVit(10)\n",
        "      self.setInt(5)\n",
        "      self.setHp(self.getHp()+self.getVit())"
      ],
      "metadata": {
        "id": "YqGN7RmFq0W2"
      },
      "execution_count": null,
      "outputs": []
    },
    {
      "cell_type": "markdown",
      "source": [
        "Modified Test.py"
      ],
      "metadata": {
        "id": "7hAzVJl6MzaM"
      }
    },
    {
      "cell_type": "code",
      "source": [
        "Character1 = Swordsman(\"Royce\")\n",
        "Character2 = Boss(\"Archie\")\n",
        "\n",
        "print(f\"{Character1.getUsername()} HP: {Character1.getHp()}\")\n",
        "print(f\"{Character2.getUsername()} HP: {Character2.getHp()}\")\n",
        "\n",
        "Character1.slashAttack(Character2)\n",
        "Character1.basicAttack(Character2)\n",
        "\n",
        "print(f\"{Character1.getUsername()} HP: {Character1.getHp()}\")\n",
        "print(f\"{Character2.getUsername()} HP: {Character2.getHp()}\")\n",
        "\n",
        "Character2.heal()\n",
        "Character2.basicAttack(Character1)\n",
        "Character2.slashAttack(Character1)\n",
        "Character2.rangedAttack(Character1)\n",
        "Character2.magicAttack(Character1)\n",
        "\n",
        "print(f\"{Character1.getUsername()} HP: {Character1.getHp()}\")\n",
        "print(f\"{Character2.getUsername()} HP: {Character2.getHp()}\")\n"
      ],
      "metadata": {
        "colab": {
          "base_uri": "https://localhost:8080/"
        },
        "id": "rbXlsp3IKLY7",
        "outputId": "f950ff2c-ed7c-4e3a-c33d-d269aa83edde"
      },
      "execution_count": null,
      "outputs": [
        {
          "output_type": "stream",
          "name": "stdout",
          "text": [
            "Royce HP: 110\n",
            "Archie HP: 130\n",
            "Royce performed Slash Attack! - 10\n",
            "Royce performed Basic Attack! Damage:5\n",
            "Royce HP: 110\n",
            "Archie HP: 115\n",
            "Archie performed Heal! + 5\n",
            "Archie performed Basic Attack! Damage:5\n",
            "Archie performed Slash Attack! - 15\n",
            "Archie performed Ranged Attack! - 6\n",
            "Archie performed Magic Attack! - 10\n",
            "Royce HP: 74\n",
            "Archie HP: 120\n"
          ]
        }
      ]
    },
    {
      "cell_type": "markdown",
      "source": [
        "# **SUPPLEMENTARY ACTIVITY**"
      ],
      "metadata": {
        "id": "rCezWZviMky1"
      }
    },
    {
      "cell_type": "code",
      "source": [],
      "metadata": {
        "id": "5m2lpS5OMp6d"
      },
      "execution_count": null,
      "outputs": []
    }
  ],
  "metadata": {
    "colab": {
      "provenance": [],
      "authorship_tag": "ABX9TyNBerWZi35JKtBZqQxX3Vwx",
      "include_colab_link": true
    },
    "kernelspec": {
      "display_name": "Python 3",
      "name": "python3"
    },
    "language_info": {
      "name": "python"
    }
  },
  "nbformat": 4,
  "nbformat_minor": 0
}