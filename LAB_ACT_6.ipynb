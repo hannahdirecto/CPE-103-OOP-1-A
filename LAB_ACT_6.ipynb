{
  "cells": [
    {
      "cell_type": "markdown",
      "metadata": {
        "id": "view-in-github",
        "colab_type": "text"
      },
      "source": [
        "<a href=\"https://colab.research.google.com/github/hannahdirecto/CPE-103-OOP-1-A/blob/main/LAB_ACT_6.ipynb\" target=\"_parent\"><img src=\"https://colab.research.google.com/assets/colab-badge.svg\" alt=\"Open In Colab\"/></a>"
      ]
    },
    {
      "cell_type": "markdown",
      "metadata": {
        "id": "5PapagOZNURv"
      },
      "source": [
        "Character.py"
      ]
    },
    {
      "cell_type": "code",
      "execution_count": 18,
      "metadata": {
        "colab": {
          "base_uri": "https://localhost:8080/"
        },
        "id": "hHBqye5oqpkO",
        "outputId": "135b3f9f-1fa3-4d58-b1a6-3c47620c6152"
      },
      "outputs": [
        {
          "output_type": "stream",
          "name": "stdout",
          "text": [
            "Hnnhth\n"
          ]
        }
      ],
      "source": [
        "class Character():\n",
        "    def __init__(self, username):\n",
        "        self.__username = username\n",
        "        self.__hp= 100\n",
        "        self.__mana = 100\n",
        "        self.__damage = 5\n",
        "        self.__str = 0 #strength stat\n",
        "        self.__vit = 0 #vitality stat\n",
        "        self.__int = 0 #intelligence stat\n",
        "        self.__agi = 0 #agility stat\n",
        "\n",
        "    def getUsername(self):\n",
        "        return self.__username\n",
        "\n",
        "    def setUsername(self, new_username):\n",
        "        self.__username = new_username\n",
        "\n",
        "    def getHp(self):\n",
        "        return self.__hp\n",
        "\n",
        "    def setHp(self, new_hp):\n",
        "        self.__hp = new_hp\n",
        "\n",
        "    def getDamage(self):\n",
        "        return self.__damage\n",
        "\n",
        "    def setDamage(self, new_damage):\n",
        "        self.__damage = new_damage\n",
        "\n",
        "    def getStr(self):\n",
        "        return self.__str\n",
        "\n",
        "    def setStr(self, new_str):\n",
        "        self.__str = new_str\n",
        "\n",
        "    def getVit(self):\n",
        "        return self.__vit\n",
        "\n",
        "    def setVit(self, new_vit):\n",
        "        self.__vit = new_vit\n",
        "\n",
        "    def getInt(self):\n",
        "        return self.__int\n",
        "\n",
        "    def setInt(self, new_int):\n",
        "        self.__int = new_int\n",
        "\n",
        "    def getAgi(self):\n",
        "        return self.__agi\n",
        "\n",
        "    def setAgi(self, new_agi):\n",
        "        self.__agi = new_agi\n",
        "\n",
        "    def reduceHp(self, damage_amount):\n",
        "        self.__hp = self.__hp - damage_amount\n",
        "\n",
        "    def addHp(self, heal_amount):\n",
        "        self.__hp = self.__hp + heal_amount\n",
        "\n",
        "character1 = Character(\"Hnnhth\")\n",
        "\n",
        "print(character1.getUsername())"
      ]
    },
    {
      "cell_type": "markdown",
      "metadata": {
        "id": "I8XI2jTaNYAl"
      },
      "source": [
        "Novice.py"
      ]
    },
    {
      "cell_type": "code",
      "execution_count": 19,
      "metadata": {
        "id": "nONEAbQ6yi-x"
      },
      "outputs": [],
      "source": [
        "class Novice(Character):\n",
        "    def basicAttack(self, character):\n",
        "        character.reduceHp(self.getDamage())\n",
        "        print(f\"{self.getUsername()} performed Basic Attack! Damage:{self.getDamage()}\")"
      ]
    },
    {
      "cell_type": "code",
      "execution_count": 20,
      "metadata": {
        "colab": {
          "base_uri": "https://localhost:8080/"
        },
        "id": "wHhBrAEpIk15",
        "outputId": "55eb4b8f-6bbc-4971-b32b-425c37bf1de7"
      },
      "outputs": [
        {
          "output_type": "stream",
          "name": "stdout",
          "text": [
            "Hnnhth\n",
            "100\n"
          ]
        }
      ],
      "source": [
        "character1 = Novice(\"Hnnhth\")\n",
        "print(character1.getUsername())\n",
        "print(character1.getHp())"
      ]
    },
    {
      "cell_type": "markdown",
      "metadata": {
        "id": "fOjpNcN0PAzU"
      },
      "source": [
        "Multi-Level Inheritance"
      ]
    },
    {
      "cell_type": "markdown",
      "metadata": {
        "id": "OMKDZdY8UYWu"
      },
      "source": [
        "Swordman.py"
      ]
    },
    {
      "cell_type": "code",
      "execution_count": 21,
      "metadata": {
        "id": "M8WaAD1APF8d"
      },
      "outputs": [],
      "source": [
        "class Swordsman(Novice):\n",
        "   def __init__(self, username):\n",
        "       super().__init__(username)\n",
        "       self.setStr(5)\n",
        "       self.setVit(10)\n",
        "       self.setHp(self.getHp()+self.getVit())\n",
        "\n",
        "   def slashAttack(self, character):\n",
        "       self.new_damage = self.getDamage()+self.getStr()\n",
        "       character.reduceHp(self.new_damage)\n",
        "       print(f\"{self.getUsername()} performed Slash Attack! - {self.new_damage}\")\n",
        "\n"
      ]
    },
    {
      "cell_type": "markdown",
      "metadata": {
        "id": "x1mU5ZabUXa6"
      },
      "source": [
        "Archer.py\n"
      ]
    },
    {
      "cell_type": "code",
      "execution_count": 22,
      "metadata": {
        "id": "Jl-fnr6SUgqc"
      },
      "outputs": [],
      "source": [
        "import random\n",
        "\n",
        "class Archer(Novice):\n",
        "    def __init__(self, username):\n",
        "        super(). __init__(username)\n",
        "        self.setAgi(5)\n",
        "        self.setInt(5)\n",
        "        self.setVit(5)\n",
        "        self.setHp(self.getHp() + self.getVit())\n",
        "\n",
        "    def rangedAttack(self, character):\n",
        "        self.new_damage = self.getDamage() + random.randint(0, self.getInt())\n",
        "        character.reduceHp(self.new_damage)\n",
        "        print(f\"{self.getUsername()} performed Ranged Attack! - {self.new_damage}\")"
      ]
    },
    {
      "cell_type": "markdown",
      "metadata": {
        "id": "fE6Dwa2rU3UR"
      },
      "source": [
        "Magician.py"
      ]
    },
    {
      "cell_type": "code",
      "execution_count": 23,
      "metadata": {
        "id": "ETcd_BVDXXuL"
      },
      "outputs": [],
      "source": [
        "class Magician(Novice):\n",
        "    def __init__(self, username):\n",
        "        super().__init__(username)\n",
        "        self.setInt(10)\n",
        "        self.setVit(5)\n",
        "        self.setHp(self.getHp()+self.getVit())\n",
        "\n",
        "    def heal(self):\n",
        "        self.addHp(self.getInt())\n",
        "        print(f\"{self.getUsername()} performed Heal! + { self.getInt()}\")\n",
        "\n",
        "    def magicAttack(self, character):\n",
        "        self.new_damage = self.getDamage()+self.getInt()\n",
        "        character.reduceHp(self.new_damage)\n",
        "        print(f\"{self.getUsername()} performed Magic Attack! - {self.new_damage}\")"
      ]
    },
    {
      "cell_type": "markdown",
      "metadata": {
        "id": "vVvFcflsah31"
      },
      "source": [
        "Test.py"
      ]
    },
    {
      "cell_type": "code",
      "execution_count": 24,
      "metadata": {
        "colab": {
          "base_uri": "https://localhost:8080/"
        },
        "id": "jlRl4V2OakNb",
        "outputId": "bb3f698e-ea6a-49c8-9f96-c51895162a63"
      },
      "outputs": [
        {
          "output_type": "stream",
          "name": "stdout",
          "text": [
            "Royce HP: 110\n",
            "Archie HP: 105\n",
            "Royce performed Slash Attack! - 10\n",
            "Royce performed Basic Attack! Damage:5\n",
            "Royce HP: 110\n",
            "Archie HP: 90\n",
            "Archie performed Heal! + 10\n",
            "Archie performed Magic Attack! - 15\n",
            "Royce HP: 95\n",
            "Archie HP: 100\n"
          ]
        }
      ],
      "source": [
        "Character1 = Swordsman (\"Royce\")\n",
        "Character2 = Magician (\"Archie\")\n",
        "print(f\"{Character1.getUsername()} HP: {Character1.getHp()}\")\n",
        "print(f\"{Character2.getUsername()} HP: {Character2.getHp()}\")\n",
        "Character1.slashAttack (Character2)\n",
        "Character1.basicAttack (Character2)\n",
        "print(f\"{Character1.getUsername()} HP: {Character1.getHp()}\")\n",
        "print(f\"{Character2.getUsername()} HP: {Character2.getHp()}\")\n",
        "Character2.heal()\n",
        "Character2.magicAttack (Character1)\n",
        "print(f\"{Character1.getUsername()} HP: {Character1.getHp()}\")\n",
        "print(f\"{Character2.getUsername()} HP: {Character2.getHp()}\")"
      ]
    },
    {
      "cell_type": "markdown",
      "metadata": {
        "id": "P6eIUOyNqg8T"
      },
      "source": [
        "Multiple Inheritance\n"
      ]
    },
    {
      "cell_type": "markdown",
      "metadata": {
        "id": "pRGwqphCMxSg"
      },
      "source": [
        "Boss.py"
      ]
    },
    {
      "cell_type": "code",
      "execution_count": 25,
      "metadata": {
        "id": "YqGN7RmFq0W2"
      },
      "outputs": [],
      "source": [
        "class Boss(Swordsman, Archer, Magician):\n",
        "  def __init__(self, username):\n",
        "      super().__init__(username)\n",
        "\n",
        "      self.setStr(10)\n",
        "      self.setVit(10)\n",
        "      self.setInt(5)\n",
        "      self.setHp(self.getHp()+self.getVit())"
      ]
    },
    {
      "cell_type": "markdown",
      "metadata": {
        "id": "7hAzVJl6MzaM"
      },
      "source": [
        "Modified Test.py"
      ]
    },
    {
      "cell_type": "code",
      "execution_count": 26,
      "metadata": {
        "colab": {
          "base_uri": "https://localhost:8080/"
        },
        "id": "rbXlsp3IKLY7",
        "outputId": "b3102295-ffd2-4987-cff2-6218f9c050ee"
      },
      "outputs": [
        {
          "output_type": "stream",
          "name": "stdout",
          "text": [
            "Royce HP: 110\n",
            "Archie HP: 130\n",
            "Royce performed Slash Attack! - 10\n",
            "Royce performed Basic Attack! Damage:5\n",
            "Royce HP: 110\n",
            "Archie HP: 115\n",
            "Archie performed Heal! + 5\n",
            "Archie performed Basic Attack! Damage:5\n",
            "Archie performed Slash Attack! - 15\n",
            "Archie performed Ranged Attack! - 6\n",
            "Archie performed Magic Attack! - 10\n",
            "Royce HP: 74\n",
            "Archie HP: 120\n"
          ]
        }
      ],
      "source": [
        "Character1 = Swordsman(\"Royce\")\n",
        "Character2 = Boss(\"Archie\")\n",
        "\n",
        "print(f\"{Character1.getUsername()} HP: {Character1.getHp()}\")\n",
        "print(f\"{Character2.getUsername()} HP: {Character2.getHp()}\")\n",
        "\n",
        "Character1.slashAttack(Character2)\n",
        "Character1.basicAttack(Character2)\n",
        "\n",
        "print(f\"{Character1.getUsername()} HP: {Character1.getHp()}\")\n",
        "print(f\"{Character2.getUsername()} HP: {Character2.getHp()}\")\n",
        "\n",
        "Character2.heal()\n",
        "Character2.basicAttack(Character1)\n",
        "Character2.slashAttack(Character1)\n",
        "Character2.rangedAttack(Character1)\n",
        "Character2.magicAttack(Character1)\n",
        "\n",
        "print(f\"{Character1.getUsername()} HP: {Character1.getHp()}\")\n",
        "print(f\"{Character2.getUsername()} HP: {Character2.getHp()}\")\n"
      ]
    },
    {
      "cell_type": "markdown",
      "metadata": {
        "id": "rCezWZviMky1"
      },
      "source": [
        "# **SUPPLEMENTARY ACTIVITY**"
      ]
    },
    {
      "cell_type": "code",
      "execution_count": 28,
      "metadata": {
        "colab": {
          "base_uri": "https://localhost:8080/"
        },
        "id": "X8Oc7XiJ_0Sp",
        "outputId": "9223f7aa-3745-432d-ffb3-673f95e01d18"
      },
      "outputs": [
        {
          "output_type": "stream",
          "name": "stdout",
          "text": [
            "Select Game Mode:\n",
            "1. Single Player (vs Monster)\n",
            "2. Player vs Player\n",
            "3. Exit\n",
            "Enter your choice (1, 2, or 3): 1\n",
            "Welcome to Single Player Mode!\n",
            "Enter your name: HT\n",
            "HT HP: 100\n",
            "Monster HP: 100\n",
            "\n",
            "Battle Start!\n",
            "HT, press 'A' to attack:A\n",
            "HT attacked Monster for 6 damage! Monster HP: (94)\n",
            "Monster attacked HT for 8 damage! HT HP: (92)\n",
            "HT, press 'A' to attack:A\n",
            "HT attacked Monster for 14 damage! Monster HP: (80)\n",
            "Monster attacked HT for 8 damage! HT HP: (84)\n",
            "HT, press 'A' to attack:A\n",
            "HT attacked Monster for 6 damage! Monster HP: (74)\n",
            "Monster attacked HT for 8 damage! HT HP: (76)\n",
            "HT, press 'A' to attack:A\n",
            "HT attacked Monster for 13 damage! Monster HP: (61)\n",
            "Monster attacked HT for 8 damage! HT HP: (68)\n",
            "HT, press 'A' to attack:\n",
            "HT attacked Monster for 11 damage! Monster HP: (50)\n",
            "Monster attacked HT for 8 damage! HT HP: (60)\n",
            "HT, press 'A' to attack:\n",
            "HT attacked Monster for 13 damage! Monster HP: (37)\n",
            "Monster attacked HT for 8 damage! HT HP: (52)\n",
            "HT, press 'A' to attack:A\n",
            "HT attacked Monster for 7 damage! Monster HP: (30)\n",
            "Monster attacked HT for 8 damage! HT HP: (44)\n",
            "HT, press 'A' to attack:A\n",
            "HT attacked Monster for 14 damage! Monster HP: (16)\n",
            "Monster attacked HT for 8 damage! HT HP: (36)\n",
            "HT, press 'A' to attack:A\n",
            "HT attacked Monster for 6 damage! Monster HP: (10)\n",
            "Monster attacked HT for 8 damage! HT HP: (28)\n",
            "HT, press 'A' to attack:A\n",
            "HT attacked Monster for 13 damage! Monster HP: (-3)\n",
            "\n",
            "Monster has been defeated!\n",
            "Total Wins: 1\n",
            "HT's HP has been restored to (100)!\n",
            "\n",
            "Battle Start!\n",
            "HT, press 'A' to attack:A\n",
            "HT attacked Monster for 7 damage! Monster HP: (93)\n",
            "Monster attacked HT for 8 damage! HT HP: (92)\n",
            "HT, press 'A' to attack:A\n",
            "HT attacked Monster for 14 damage! Monster HP: (79)\n",
            "Monster attacked HT for 8 damage! HT HP: (84)\n",
            "HT, press 'A' to attack:A\n",
            "HT attacked Monster for 13 damage! Monster HP: (66)\n",
            "Monster attacked HT for 8 damage! HT HP: (76)\n",
            "HT, press 'A' to attack:A\n",
            "HT attacked Monster for 5 damage! Monster HP: (61)\n",
            "Monster attacked HT for 8 damage! HT HP: (68)\n",
            "HT, press 'A' to attack:A\n",
            "HT attacked Monster for 15 damage! Monster HP: (46)\n",
            "Monster attacked HT for 8 damage! HT HP: (60)\n",
            "HT, press 'A' to attack:A\n",
            "HT attacked Monster for 6 damage! Monster HP: (40)\n",
            "Monster attacked HT for 8 damage! HT HP: (52)\n",
            "HT, press 'A' to attack:A\n",
            "HT attacked Monster for 9 damage! Monster HP: (31)\n",
            "Monster attacked HT for 8 damage! HT HP: (44)\n",
            "HT, press 'A' to attack:A\n",
            "HT attacked Monster for 12 damage! Monster HP: (19)\n",
            "Monster attacked HT for 8 damage! HT HP: (36)\n",
            "HT, press 'A' to attack:A\n",
            "HT attacked Monster for 13 damage! Monster HP: (6)\n",
            "Monster attacked HT for 8 damage! HT HP: (28)\n",
            "HT, press 'A' to attack:A\n",
            "HT attacked Monster for 9 damage! Monster HP: (-3)\n",
            "\n",
            "Monster has been defeated!\n",
            "Total Wins: 2\n",
            "HT's HP has been restored to (100)!\n",
            "Congratulations! You can now choose a new role.\n",
            "Choose your new role: 1. Swordsman 2. Archer 3. Magician\n",
            "Enter choice: 1\n",
            "You are now a Swordsman!\n",
            "\n",
            "Battle Start!\n",
            "Monster attacked HT for 8 damage! HT HP: (92)\n",
            "HT, press 'A' to attack:A\n",
            "HT attacked Monster for 9 damage! Monster HP: (91)\n",
            "Monster attacked HT for 8 damage! HT HP: (84)\n",
            "HT, press 'A' to attack:\n",
            "HT attacked Monster for 6 damage! Monster HP: (85)\n",
            "Monster attacked HT for 8 damage! HT HP: (76)\n",
            "HT, press 'A' to attack:A\n",
            "HT attacked Monster for 12 damage! Monster HP: (73)\n",
            "Monster attacked HT for 8 damage! HT HP: (68)\n",
            "HT, press 'A' to attack:\n",
            "HT attacked Monster for 7 damage! Monster HP: (66)\n",
            "Monster attacked HT for 8 damage! HT HP: (60)\n",
            "HT, press 'A' to attack:\n",
            "HT attacked Monster for 9 damage! Monster HP: (57)\n",
            "Monster attacked HT for 8 damage! HT HP: (52)\n",
            "HT, press 'A' to attack:\n",
            "HT attacked Monster for 12 damage! Monster HP: (45)\n",
            "Monster attacked HT for 8 damage! HT HP: (44)\n",
            "HT, press 'A' to attack:\n",
            "HT attacked Monster for 7 damage! Monster HP: (38)\n",
            "Monster attacked HT for 8 damage! HT HP: (36)\n",
            "HT, press 'A' to attack:A\n",
            "HT attacked Monster for 16 damage! Monster HP: (22)\n",
            "Monster attacked HT for 8 damage! HT HP: (28)\n",
            "HT, press 'A' to attack:A\n",
            "HT attacked Monster for 16 damage! Monster HP: (6)\n",
            "Monster attacked HT for 8 damage! HT HP: (20)\n",
            "HT, press 'A' to attack:A\n",
            "HT attacked Monster for 14 damage! Monster HP: (-8)\n",
            "\n",
            "Monster has been defeated!\n",
            "Total Wins: 3\n",
            "HT's HP has been restored to (100)!\n",
            "You have 3 wins! Do you want to continue playing? (yes/no): NO\n",
            "Exiting single-player mode. Thanks for playing!\n",
            "\n",
            "Do you want to play again? (yes/no): NO\n",
            "\n",
            "Thanks for playing! Exiting game.\n"
          ]
        }
      ],
      "source": [
        "import random\n",
        "\n",
        "class Monster(Character):\n",
        "    def __init__(self):\n",
        "        super().__init__(\"Monster\")\n",
        "        self.setHp(100)\n",
        "        self.setDamage(8)\n",
        "\n",
        "    def attack(self, player):\n",
        "        player.reduceHp(self.getDamage())\n",
        "        print(f\"Monster attacked {player.getUsername()} for {self.getDamage()} damage! {player.getUsername()} HP: ({player.getHp()})\")\n",
        "\n",
        "class Game:\n",
        "    def __init__(self):\n",
        "        self.player1 = None\n",
        "        self.player2 = None\n",
        "        self.mode = None\n",
        "        self.wins = {}\n",
        "\n",
        "    def select_mode(self):\n",
        "        print(\"Select Game Mode:\")\n",
        "        print(\"1. Single Player (vs Monster)\")\n",
        "        print(\"2. Player vs Player\")\n",
        "        print(\"3. Exit\")\n",
        "        choice = input(\"Enter your choice (1, 2, or 3): \")\n",
        "\n",
        "        if choice == \"1\":\n",
        "            self.start_single_player()\n",
        "        elif choice == \"2\":\n",
        "            self.start_pvp()\n",
        "        elif choice == \"3\":\n",
        "            print(\"Exiting game. Goodbye!\")\n",
        "            exit()\n",
        "        else:\n",
        "            print(\"Invalid choice. Try again.\")\n",
        "            self.select_mode()\n",
        "\n",
        "    def start_single_player(self):\n",
        "        print(\"Welcome to Single Player Mode!\")\n",
        "        username = input(\"Enter your name: \")\n",
        "        self.player1 = Novice(username)\n",
        "        self.player2 = Monster()\n",
        "        self.player1.setHp(100)\n",
        "        self.player2.setHp(100)\n",
        "        print(f\"{self.player1.getUsername()} HP: {self.player1.getHp()}\")\n",
        "        print(f\"{self.player2.getUsername()} HP: {self.player2.getHp()}\")\n",
        "\n",
        "        self.wins[username] = 0\n",
        "        while True:\n",
        "            self.battle()\n",
        "            if self.player1.getHp() > 0:\n",
        "                self.wins[username] += 1\n",
        "                print(f\"Total Wins: {self.wins[username]}\")\n",
        "                self.player1.setHp(100)\n",
        "                print(f\"{self.player1.getUsername()}'s HP has been restored to (100)!\")\n",
        "\n",
        "                if self.wins[username] == 2:\n",
        "                    print(\"Congratulations! You can now choose a new role.\")\n",
        "                    self.player1 = self.select_character(username)\n",
        "                    self.player1.setHp(100)\n",
        "                    print(f\"You are now a {self.player1.__class__.__name__}!\")\n",
        "\n",
        "                if self.wins[username] == 3:\n",
        "                        choice = input(\"You have 3 wins! Do you want to continue playing? (yes/no): \").lower()\n",
        "                        if choice == \"no\":\n",
        "                           print(\"Exiting single-player mode. Thanks for playing!\")\n",
        "                           break\n",
        "                self.player2.setHp(100)\n",
        "            else:\n",
        "                print(\"Game Over! You lost to the Monster.\")\n",
        "                break\n",
        "\n",
        "    def start_pvp(self):\n",
        "        username1 = input(\"Enter Player 1 name: \")\n",
        "        username2 = input(\"Enter Player 2 name: \")\n",
        "\n",
        "        self.player1 = self.create_player(username1)\n",
        "        self.player2 = self.create_player(username2)\n",
        "        self.player1.setHp(100)\n",
        "        self.player2.setHp(100)\n",
        "        self.wins[username1] = 0\n",
        "        self.wins[username2] = 0\n",
        "\n",
        "        print(f\"{self.player1.getUsername()} HP: {self.player1.getHp()}\")\n",
        "        print(f\"{self.player2.getUsername()} HP: {self.player2.getHp()}\")\n",
        "\n",
        "\n",
        "        self.battle()\n",
        "\n",
        "    def create_player(self, name):\n",
        "        print(f\"{name}, choose your role: 1. Novice 2. Swordsman 3. Archer 4. Magician\")\n",
        "        choice = input(\"Enter choice: \")\n",
        "        roles = {\"1\": Novice, \"2\": Swordsman, \"3\": Archer, \"4\": Magician}\n",
        "        return roles.get(choice, Novice)(name)\n",
        "\n",
        "    def select_character(self, name):\n",
        "        print(\"Choose your new role: 1. Swordsman 2. Archer 3. Magician\")\n",
        "        choice = input(\"Enter choice: \")\n",
        "        roles = {\"1\": Swordsman, \"2\": Archer, \"3\": Magician}\n",
        "        return roles.get(choice, Novice)(name)\n",
        "\n",
        "    def battle(self):\n",
        "        print(\"\\nBattle Start!\")\n",
        "        players = [self.player1, self.player2]\n",
        "        random.shuffle(players)\n",
        "\n",
        "        while self.player1.getHp() > 0 and self.player2.getHp() > 0:\n",
        "            attacker, defender = players\n",
        "            if isinstance(attacker, Monster):\n",
        "                attacker.attack(defender)\n",
        "            else:\n",
        "                input(f\"{attacker.getUsername()}, press 'A' to attack:\")\n",
        "                damage = random.randint(5, 20)\n",
        "                defender.reduceHp(damage)\n",
        "                print(f\"{attacker.getUsername()} attacked {defender.getUsername()} for {damage} damage! {defender.getUsername()} HP: ({defender.getHp()})\")\n",
        "\n",
        "                if isinstance(attacker, Magician):\n",
        "                    attack_choice = input(\"Choose an attack: 1. Magic Attack 2. Heal: \")\n",
        "                    if attack_choice == \"1\":\n",
        "                        attacker.magicAttack(defender)\n",
        "                    elif attack_choice == \"2\":\n",
        "                        attacker.heal()\n",
        "                    else:\n",
        "                        print(\"Invalid choice. Using Basic Attack.\")\n",
        "\n",
        "            if defender.getHp() <= 0:\n",
        "                print(f\"\\n{defender.getUsername()} has been defeated!\")\n",
        "                break\n",
        "\n",
        "            players.reverse()\n",
        "\n",
        "    def play(self):\n",
        "        self.select_mode()\n",
        "        while True:\n",
        "            again = input(\"\\nDo you want to play again? (yes/no): \")\n",
        "            if again.lower() == \"yes\":\n",
        "                self.select_mode()\n",
        "            elif again.lower() == \"no\":\n",
        "                print(\"\\nThanks for playing! Exiting game.\")\n",
        "                break\n",
        "            else:\n",
        "                print(\"Invalid choice. Please enter yes or no.\")\n",
        "\n",
        "# Start the game\n",
        "if __name__ == \"__main__\":\n",
        "    game = Game()\n",
        "    game.play()"
      ]
    },
    {
      "cell_type": "code",
      "source": [
        "import random\n",
        "\n",
        "class Monster(Character):\n",
        "    def __init__(self):\n",
        "        super().__init__(\"Monster\")\n",
        "        self.setHp(100)\n",
        "        self.setDamage(8)\n",
        "\n",
        "    def attack(self, player):\n",
        "        player.reduceHp(self.getDamage())\n",
        "        print(f\"Monster attacked {player.getUsername()} for {self.getDamage()} damage! {player.getUsername()} HP: ({player.getHp()})\")\n",
        "\n",
        "class Game:\n",
        "    def __init__(self):\n",
        "        self.player1 = None\n",
        "        self.player2 = None\n",
        "        self.mode = None\n",
        "        self.wins = {}\n",
        "\n",
        "    def select_mode(self):\n",
        "        print(\"Select Game Mode:\")\n",
        "        print(\"1. Single Player (vs Monster)\")\n",
        "        print(\"2. Player vs Player\")\n",
        "        print(\"3. Exit\")\n",
        "        choice = input(\"Enter your choice (1, 2, or 3): \")\n",
        "\n",
        "        if choice == \"1\":\n",
        "            self.start_single_player()\n",
        "        elif choice == \"2\":\n",
        "            self.start_pvp()\n",
        "        elif choice == \"3\":\n",
        "            print(\"Exiting game. Goodbye!\")\n",
        "            exit()\n",
        "        else:\n",
        "            print(\"Invalid choice. Try again.\")\n",
        "            self.select_mode()\n",
        "\n",
        "    def start_single_player(self):\n",
        "        print(\"Welcome to Single Player Mode!\")\n",
        "        username = input(\"Enter your name: \")\n",
        "        self.player1 = Novice(username)\n",
        "        self.player2 = Monster()\n",
        "        self.player1.setHp(100)\n",
        "        self.player2.setHp(100)\n",
        "        print(f\"{self.player1.getUsername()} HP: {self.player1.getHp()}\")\n",
        "        print(f\"{self.player2.getUsername()} HP: {self.player2.getHp()}\")\n",
        "\n",
        "        self.wins[username] = 0\n",
        "        while True:\n",
        "            self.battle()\n",
        "            if self.player1.getHp() > 0:\n",
        "                self.wins[username] += 1\n",
        "                print(f\"Total Wins: {self.wins[username]}\")\n",
        "                self.player1.setHp(100)\n",
        "                print(f\"{self.player1.getUsername()}'s HP has been restored to (100)!\")\n",
        "\n",
        "                if self.wins[username] == 2:\n",
        "                    print(\"Congratulations! You can now choose a new role.\")\n",
        "                    self.player1 = self.select_character(username)\n",
        "                    self.player1.setHp(100)\n",
        "                    print(f\"You are now a {self.player1.__class__.__name__}!\")\n",
        "\n",
        "                if self.wins[username] == 3:\n",
        "                        choice = input(\"You have 3 wins! Do you want to continue playing? (yes/no): \").lower()\n",
        "                        if choice == \"no\":\n",
        "                           print(\"Exiting single-player mode. Thanks for playing!\")\n",
        "                           break\n",
        "                self.player2.setHp(100)\n",
        "            else:\n",
        "                print(\"Game Over! You lost to the Monster.\")\n",
        "                break\n",
        "\n",
        "    def start_pvp(self):\n",
        "        username1 = input(\"Enter Player 1 name: \")\n",
        "        username2 = input(\"Enter Player 2 name: \")\n",
        "\n",
        "        self.player1 = self.create_player(username1)\n",
        "        self.player2 = self.create_player(username2)\n",
        "        self.player1.setHp(100)\n",
        "        self.player2.setHp(100)\n",
        "        self.wins[username1] = 0\n",
        "        self.wins[username2] = 0\n",
        "\n",
        "        print(f\"{self.player1.getUsername()} HP: {self.player1.getHp()}\")\n",
        "        print(f\"{self.player2.getUsername()} HP: {self.player2.getHp()}\")\n",
        "\n",
        "\n",
        "        self.battle()\n",
        "\n",
        "    def create_player(self, name):\n",
        "        print(f\"{name}, choose your role: 1. Novice 2. Swordsman 3. Archer 4. Magician\")\n",
        "        choice = input(\"Enter choice: \")\n",
        "        roles = {\"1\": Novice, \"2\": Swordsman, \"3\": Archer, \"4\": Magician}\n",
        "        return roles.get(choice, Novice)(name)\n",
        "\n",
        "    def select_character(self, name):\n",
        "        print(\"Choose your new role: 1. Swordsman 2. Archer 3. Magician\")\n",
        "        choice = input(\"Enter choice: \")\n",
        "        roles = {\"1\": Swordsman, \"2\": Archer, \"3\": Magician}\n",
        "        return roles.get(choice, Novice)(name)\n",
        "\n",
        "    def battle(self):\n",
        "        print(\"\\nBattle Start!\")\n",
        "        players = [self.player1, self.player2]\n",
        "        random.shuffle(players)\n",
        "\n",
        "        while self.player1.getHp() > 0 and self.player2.getHp() > 0:\n",
        "            attacker, defender = players\n",
        "            if isinstance(attacker, Monster):\n",
        "                attacker.attack(defender)\n",
        "            else:\n",
        "                input(f\"{attacker.getUsername()}, press 'A' to attack:\")\n",
        "                damage = random.randint(5, 20)\n",
        "                defender.reduceHp(damage)\n",
        "                print(f\"{attacker.getUsername()} attacked {defender.getUsername()} for {damage} damage! {defender.getUsername()} HP: ({defender.getHp()})\")\n",
        "\n",
        "                if isinstance(attacker, Magician):\n",
        "                    attack_choice = input(\"Choose an attack: 1. Magic Attack 2. Heal: \")\n",
        "                    if attack_choice == \"1\":\n",
        "                        attacker.magicAttack(defender)\n",
        "                    elif attack_choice == \"2\":\n",
        "                        attacker.heal()\n",
        "                    else:\n",
        "                        print(\"Invalid choice. Using Basic Attack.\")\n",
        "\n",
        "            if defender.getHp() <= 0:\n",
        "                print(f\"\\n{defender.getUsername()} has been defeated!\")\n",
        "                break\n",
        "\n",
        "            players.reverse()\n",
        "\n",
        "    def play(self):\n",
        "        self.select_mode()\n",
        "        while True:\n",
        "            again = input(\"\\nDo you want to play again? (yes/no): \")\n",
        "            if again.lower() == \"yes\":\n",
        "                self.select_mode()\n",
        "            elif again.lower() == \"no\":\n",
        "                print(\"\\nThanks for playing! Exiting game.\")\n",
        "                break\n",
        "            else:\n",
        "                print(\"Invalid choice. Please enter yes or no.\")\n",
        "\n",
        "# Start the game\n",
        "if __name__ == \"__main__\":\n",
        "    game = Game()\n",
        "    game.play()\n"
      ],
      "metadata": {
        "colab": {
          "base_uri": "https://localhost:8080/"
        },
        "id": "WdR7G5rEIjwx",
        "outputId": "fb62ac8b-5555-4f36-e805-04306de49974"
      },
      "execution_count": 39,
      "outputs": [
        {
          "output_type": "stream",
          "name": "stdout",
          "text": [
            "Select Game Mode:\n",
            "1. Single Player (vs Monster)\n",
            "2. Player vs Player\n",
            "3. Exit\n",
            "Enter your choice (1, 2, or 3): 2\n",
            "Enter Player 1 name: TEY\n",
            "Enter Player 2 name: HAN\n",
            "TEY, choose your role: 1. Novice 2. Swordsman 3. Archer 4. Magician\n",
            "Enter choice: 2\n",
            "HAN, choose your role: 1. Novice 2. Swordsman 3. Archer 4. Magician\n",
            "Enter choice: 3\n",
            "TEY HP: 100\n",
            "HAN HP: 100\n",
            "\n",
            "Battle Start!\n",
            "TEY, press 'A' to attack:A\n",
            "TEY attacked HAN for 14 damage! HAN HP: (86)\n",
            "HAN, press 'A' to attack:A\n",
            "HAN attacked TEY for 20 damage! TEY HP: (80)\n",
            "TEY, press 'A' to attack:A\n",
            "TEY attacked HAN for 6 damage! HAN HP: (80)\n",
            "HAN, press 'A' to attack:A\n",
            "HAN attacked TEY for 13 damage! TEY HP: (67)\n",
            "TEY, press 'A' to attack:A\n",
            "TEY attacked HAN for 20 damage! HAN HP: (60)\n",
            "HAN, press 'A' to attack:A\n",
            "HAN attacked TEY for 7 damage! TEY HP: (60)\n",
            "TEY, press 'A' to attack:A\n",
            "TEY attacked HAN for 15 damage! HAN HP: (45)\n",
            "HAN, press 'A' to attack:A\n",
            "HAN attacked TEY for 11 damage! TEY HP: (49)\n",
            "TEY, press 'A' to attack:A\n",
            "TEY attacked HAN for 12 damage! HAN HP: (33)\n",
            "HAN, press 'A' to attack:A\n",
            "HAN attacked TEY for 8 damage! TEY HP: (41)\n",
            "TEY, press 'A' to attack:A\n",
            "TEY attacked HAN for 9 damage! HAN HP: (24)\n",
            "HAN, press 'A' to attack:A\n",
            "HAN attacked TEY for 8 damage! TEY HP: (33)\n",
            "TEY, press 'A' to attack:A\n",
            "TEY attacked HAN for 16 damage! HAN HP: (8)\n",
            "HAN, press 'A' to attack:A\n",
            "HAN attacked TEY for 7 damage! TEY HP: (26)\n",
            "TEY, press 'A' to attack:A\n",
            "TEY attacked HAN for 10 damage! HAN HP: (-2)\n",
            "\n",
            "HAN has been defeated!\n",
            "\n",
            "Do you want to play again? (yes/no): NO\n",
            "\n",
            "Thanks for playing! Exiting game.\n"
          ]
        }
      ]
    }
  ],
  "metadata": {
    "colab": {
      "provenance": [],
      "authorship_tag": "ABX9TyOHJ7DcIHaBn4fZWPPSX45C",
      "include_colab_link": true
    },
    "kernelspec": {
      "display_name": "Python 3",
      "name": "python3"
    },
    "language_info": {
      "name": "python"
    }
  },
  "nbformat": 4,
  "nbformat_minor": 0
}