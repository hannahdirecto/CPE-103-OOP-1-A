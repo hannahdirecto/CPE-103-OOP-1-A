{
  "cells": [
    {
      "cell_type": "markdown",
      "metadata": {
        "id": "view-in-github",
        "colab_type": "text"
      },
      "source": [
        "<a href=\"https://colab.research.google.com/github/hannahdirecto/CPE-103-OOP-1-A/blob/main/Laboratory_Activity_No_2_1_(Literals%2C_Operators%2C_and_Variables).ipynb\" target=\"_parent\"><img src=\"https://colab.research.google.com/assets/colab-badge.svg\" alt=\"Open In Colab\"/></a>"
      ]
    },
    {
      "cell_type": "markdown",
      "metadata": {
        "id": "WM18NTQ1odGS"
      },
      "source": [
        "Assigning variables of different data types in Python"
      ]
    },
    {
      "cell_type": "code",
      "execution_count": null,
      "metadata": {
        "colab": {
          "base_uri": "https://localhost:8080/"
        },
        "id": "xBDoIduAoakL",
        "outputId": "5928f8c3-2f6f-4610-fb8e-1e4f994cac8d"
      },
      "outputs": [
        {
          "name": "stdout",
          "output_type": "stream",
          "text": [
            "5\n"
          ]
        },
        {
          "data": {
            "text/plain": [
              "int"
            ]
          },
          "execution_count": 92,
          "metadata": {},
          "output_type": "execute_result"
        }
      ],
      "source": [
        "#1\n",
        "value = 5\n",
        "print (value)\n",
        "\n",
        "#2\n",
        "type (value)"
      ]
    },
    {
      "cell_type": "code",
      "execution_count": null,
      "metadata": {
        "colab": {
          "base_uri": "https://localhost:8080/"
        },
        "id": "dlJIxTyYGI7-",
        "outputId": "d27514cb-3429-4a3a-da1c-851e7adad28a"
      },
      "outputs": [
        {
          "name": "stdout",
          "output_type": "stream",
          "text": [
            "5\n"
          ]
        },
        {
          "data": {
            "text/plain": [
              "int"
            ]
          },
          "execution_count": 84,
          "metadata": {},
          "output_type": "execute_result"
        }
      ],
      "source": [
        "#3\n",
        "value = 5\n",
        "print (value)\n",
        "type (value)\n"
      ]
    },
    {
      "cell_type": "code",
      "execution_count": null,
      "metadata": {
        "colab": {
          "base_uri": "https://localhost:8080/"
        },
        "id": "5E1LLj9CGQp1",
        "outputId": "5ff3ef8d-87b2-4f31-ef96-648bf1f6a97b"
      },
      "outputs": [
        {
          "name": "stdout",
          "output_type": "stream",
          "text": [
            "(2+3j)\n"
          ]
        },
        {
          "data": {
            "text/plain": [
              "complex"
            ]
          },
          "execution_count": 85,
          "metadata": {},
          "output_type": "execute_result"
        }
      ],
      "source": [
        "#4\n",
        "type (value)\n",
        "\n",
        "#5-a\n",
        "value = 2+3j\n",
        "print (value)\n",
        "type (value)"
      ]
    },
    {
      "cell_type": "code",
      "execution_count": null,
      "metadata": {
        "colab": {
          "base_uri": "https://localhost:8080/"
        },
        "id": "uJWQO7P6GWxt",
        "outputId": "1e342831-a491-4b48-8eb4-0e972be9a1e6"
      },
      "outputs": [
        {
          "name": "stdout",
          "output_type": "stream",
          "text": [
            "Hello World\n"
          ]
        },
        {
          "data": {
            "text/plain": [
              "str"
            ]
          },
          "execution_count": 86,
          "metadata": {},
          "output_type": "execute_result"
        }
      ],
      "source": [
        "#5-b\n",
        "value = \"Hello World\"\n",
        "print ('Hello World')\n",
        "type (value)\n"
      ]
    },
    {
      "cell_type": "code",
      "execution_count": null,
      "metadata": {
        "colab": {
          "base_uri": "https://localhost:8080/"
        },
        "id": "e-SP-yz1GcFl",
        "outputId": "10e980b2-7f5c-439a-95f5-79d88c12c52a"
      },
      "outputs": [
        {
          "name": "stdout",
          "output_type": "stream",
          "text": [
            "Hello World\n"
          ]
        },
        {
          "data": {
            "text/plain": [
              "str"
            ]
          },
          "execution_count": 87,
          "metadata": {},
          "output_type": "execute_result"
        }
      ],
      "source": [
        "#5-c\n",
        "value = \"Hello World\"\n",
        "print (\"Hello World\")\n",
        "type (value)\n",
        "\n"
      ]
    },
    {
      "cell_type": "code",
      "execution_count": null,
      "metadata": {
        "colab": {
          "base_uri": "https://localhost:8080/"
        },
        "id": "p8zURA-wGf0F",
        "outputId": "63ee269f-a509-4342-9327-63cf9088092e"
      },
      "outputs": [
        {
          "name": "stdout",
          "output_type": "stream",
          "text": [
            "True\n"
          ]
        },
        {
          "data": {
            "text/plain": [
              "bool"
            ]
          },
          "execution_count": 88,
          "metadata": {},
          "output_type": "execute_result"
        }
      ],
      "source": [
        "#5-d\n",
        "value = True\n",
        "print (value)\n",
        "type (value)"
      ]
    },
    {
      "cell_type": "code",
      "execution_count": null,
      "metadata": {
        "colab": {
          "base_uri": "https://localhost:8080/"
        },
        "id": "J2UovH6QGjxl",
        "outputId": "e3b803e9-62b2-458a-bf7e-1d77d1d961bf"
      },
      "outputs": [
        {
          "name": "stdout",
          "output_type": "stream",
          "text": [
            "False\n"
          ]
        },
        {
          "data": {
            "text/plain": [
              "bool"
            ]
          },
          "execution_count": 89,
          "metadata": {},
          "output_type": "execute_result"
        }
      ],
      "source": [
        "#5-e\n",
        "value = False\n",
        "print (value)\n",
        "type (value)"
      ]
    },
    {
      "cell_type": "code",
      "execution_count": null,
      "metadata": {
        "colab": {
          "base_uri": "https://localhost:8080/"
        },
        "id": "DTQi28-gGng1",
        "outputId": "e03820c3-714f-4d80-de73-a8c406ba5784"
      },
      "outputs": [
        {
          "name": "stdout",
          "output_type": "stream",
          "text": [
            "{1, 2, 3, 4, 5}\n"
          ]
        },
        {
          "data": {
            "text/plain": [
              "set"
            ]
          },
          "execution_count": 90,
          "metadata": {},
          "output_type": "execute_result"
        }
      ],
      "source": [
        "#5-f\n",
        "value = {1,2,3,4,5}\n",
        "print (value)\n",
        "type (value)"
      ]
    },
    {
      "cell_type": "code",
      "execution_count": null,
      "metadata": {
        "colab": {
          "base_uri": "https://localhost:8080/"
        },
        "id": "qI0otWr-Gruk",
        "outputId": "ecdbb78b-ece1-48be-901f-dd5634ae26dd"
      },
      "outputs": [
        {
          "name": "stdout",
          "output_type": "stream",
          "text": [
            "[1, 2, 3, 4, 5]\n"
          ]
        },
        {
          "data": {
            "text/plain": [
              "list"
            ]
          },
          "execution_count": 91,
          "metadata": {},
          "output_type": "execute_result"
        }
      ],
      "source": [
        "#5-g\n",
        "value = [1,2,3,4,5]\n",
        "print (value)\n",
        "type (value)\n"
      ]
    },
    {
      "cell_type": "code",
      "execution_count": null,
      "metadata": {
        "colab": {
          "base_uri": "https://localhost:8080/"
        },
        "id": "k-4rrluUHBI0",
        "outputId": "45bea76f-6279-4e99-cc58-8c99157ed66d"
      },
      "outputs": [
        {
          "output_type": "execute_result",
          "data": {
            "text/plain": [
              "dict"
            ]
          },
          "metadata": {},
          "execution_count": 110
        }
      ],
      "source": [
        "#5-h\n",
        "value = {'name': 'Thea'}\n",
        "type (value)"
      ]
    },
    {
      "cell_type": "code",
      "execution_count": null,
      "metadata": {
        "colab": {
          "base_uri": "https://localhost:8080/"
        },
        "id": "AeRG0f-kG_41",
        "outputId": "ccb36fcf-a778-49c6-abae-030567f8016c"
      },
      "outputs": [
        {
          "name": "stdout",
          "output_type": "stream",
          "text": [
            "None\n"
          ]
        },
        {
          "data": {
            "text/plain": [
              "NoneType"
            ]
          },
          "execution_count": 94,
          "metadata": {},
          "output_type": "execute_result"
        }
      ],
      "source": [
        "#5-i\n",
        "value = None\n",
        "print (value)\n",
        "type (value)"
      ]
    },
    {
      "cell_type": "markdown",
      "metadata": {
        "id": "x269DJuPsQjj"
      },
      "source": [
        "Performing Operations with Python"
      ]
    },
    {
      "cell_type": "code",
      "execution_count": null,
      "metadata": {
        "colab": {
          "base_uri": "https://localhost:8080/",
          "height": 280
        },
        "id": "OnJUHTn2osST",
        "outputId": "39c9a302-38b4-4946-a3b9-8b52aed46d69"
      },
      "outputs": [
        {
          "output_type": "stream",
          "name": "stdout",
          "text": [
            "11\n",
            "11.0\n",
            "1.0999999999999996\n",
            "Hello World\n",
            "[1, 2, 3, 4, 5, 6]\n",
            "(1, 2, 3, 4, 5, 6)\n"
          ]
        },
        {
          "output_type": "error",
          "ename": "TypeError",
          "evalue": "unsupported operand type(s) for +: 'dict' and 'dict'",
          "traceback": [
            "\u001b[0;31m---------------------------------------------------------------------------\u001b[0m",
            "\u001b[0;31mTypeError\u001b[0m                                 Traceback (most recent call last)",
            "\u001b[0;32m<ipython-input-9-82b23532d3ea>\u001b[0m in \u001b[0;36m<cell line: 0>\u001b[0;34m()\u001b[0m\n\u001b[1;32m     26\u001b[0m \u001b[0;31m#f\u001b[0m\u001b[0;34m\u001b[0m\u001b[0;34m\u001b[0m\u001b[0m\n\u001b[1;32m     27\u001b[0m \u001b[0mvalue\u001b[0m\u001b[0;34m,\u001b[0m \u001b[0mvalue2\u001b[0m \u001b[0;34m=\u001b[0m \u001b[0;34m{\u001b[0m\u001b[0;34m\"name\"\u001b[0m\u001b[0;34m:\u001b[0m\u001b[0;34m\"Royce\"\u001b[0m\u001b[0;34m}\u001b[0m\u001b[0;34m,\u001b[0m \u001b[0;34m{\u001b[0m\u001b[0;34m\"age\"\u001b[0m\u001b[0;34m:\u001b[0m\u001b[0;36m2\u001b[0m\u001b[0;34m}\u001b[0m\u001b[0;34m\u001b[0m\u001b[0;34m\u001b[0m\u001b[0m\n\u001b[0;32m---> 28\u001b[0;31m \u001b[0mprint\u001b[0m \u001b[0;34m(\u001b[0m\u001b[0;34m{\u001b[0m\u001b[0mvalue\u001b[0m\u001b[0;34m+\u001b[0m\u001b[0mvalue2\u001b[0m\u001b[0;34m}\u001b[0m\u001b[0;34m)\u001b[0m\u001b[0;34m\u001b[0m\u001b[0;34m\u001b[0m\u001b[0m\n\u001b[0m",
            "\u001b[0;31mTypeError\u001b[0m: unsupported operand type(s) for +: 'dict' and 'dict'"
          ]
        }
      ],
      "source": [
        "\n",
        "#1\n",
        "value = 7\n",
        "value2 = 4\n",
        "print (value+value2)\n",
        "\n",
        "#a\n",
        "value,value2 = 5.0, 6\n",
        "print (value+value2)\n",
        "\n",
        "#b\n",
        "value,value2 = -5, 6.1\n",
        "print (value+value2)\n",
        "\n",
        "#c\n",
        "value,value2 = \"Hello\", \" World\"\n",
        "print (value+value2)\n",
        "\n",
        "#d\n",
        "value,value2 = [1,2,3], [4,5,6]\n",
        "print (value+value2)\n",
        "\n",
        "#e\n",
        "value,value2 = (1,2,3), (4,5,6)\n",
        "print (value+value2)\n",
        "\n",
        "#f\n",
        "value,value2 = {\"name\":\"Royce\"}, {\"age\":2}\n",
        "print (value+value2)"
      ]
    },
    {
      "cell_type": "code",
      "source": [
        "#using subtraction\n",
        "\n",
        "#a\n",
        "value = 7\n",
        "value2 = 4\n",
        "print (value+value2)\n",
        "\n",
        "#b\n",
        "value,value2 = 5.0, 6\n",
        "print (value-value2)\n",
        "\n",
        "#c\n",
        "value,value2 = -5, 6.1\n",
        "print (value-value2)\n",
        "\n",
        "#d\n",
        "value,value2 = [1,2,3], [4,5,6]\n",
        "print (value-value2)\n",
        "\n",
        "#e\n",
        "value,value2 = (1,2,3), (4,5,6)\n",
        "print (value-value2)\n",
        "\n",
        "#f\n"
      ],
      "metadata": {
        "colab": {
          "base_uri": "https://localhost:8080/",
          "height": 263
        },
        "id": "BaBb9tDY-Wce",
        "outputId": "d906c133-bf16-42a0-ade6-235d427998b8"
      },
      "execution_count": null,
      "outputs": [
        {
          "output_type": "stream",
          "name": "stdout",
          "text": [
            "11\n",
            "-1.0\n",
            "-11.1\n"
          ]
        },
        {
          "output_type": "error",
          "ename": "TypeError",
          "evalue": "unsupported operand type(s) for -: 'list' and 'list'",
          "traceback": [
            "\u001b[0;31m---------------------------------------------------------------------------\u001b[0m",
            "\u001b[0;31mTypeError\u001b[0m                                 Traceback (most recent call last)",
            "\u001b[0;32m<ipython-input-2-346a20f05cf8>\u001b[0m in \u001b[0;36m<cell line: 0>\u001b[0;34m()\u001b[0m\n\u001b[1;32m     16\u001b[0m \u001b[0;31m#d\u001b[0m\u001b[0;34m\u001b[0m\u001b[0;34m\u001b[0m\u001b[0m\n\u001b[1;32m     17\u001b[0m \u001b[0mvalue\u001b[0m\u001b[0;34m,\u001b[0m\u001b[0mvalue2\u001b[0m \u001b[0;34m=\u001b[0m \u001b[0;34m[\u001b[0m\u001b[0;36m1\u001b[0m\u001b[0;34m,\u001b[0m\u001b[0;36m2\u001b[0m\u001b[0;34m,\u001b[0m\u001b[0;36m3\u001b[0m\u001b[0;34m]\u001b[0m\u001b[0;34m,\u001b[0m \u001b[0;34m[\u001b[0m\u001b[0;36m4\u001b[0m\u001b[0;34m,\u001b[0m\u001b[0;36m5\u001b[0m\u001b[0;34m,\u001b[0m\u001b[0;36m6\u001b[0m\u001b[0;34m]\u001b[0m\u001b[0;34m\u001b[0m\u001b[0;34m\u001b[0m\u001b[0m\n\u001b[0;32m---> 18\u001b[0;31m \u001b[0mprint\u001b[0m \u001b[0;34m(\u001b[0m\u001b[0mvalue\u001b[0m\u001b[0;34m-\u001b[0m\u001b[0mvalue2\u001b[0m\u001b[0;34m)\u001b[0m\u001b[0;34m\u001b[0m\u001b[0;34m\u001b[0m\u001b[0m\n\u001b[0m\u001b[1;32m     19\u001b[0m \u001b[0;34m\u001b[0m\u001b[0m\n\u001b[1;32m     20\u001b[0m \u001b[0;31m#e\u001b[0m\u001b[0;34m\u001b[0m\u001b[0;34m\u001b[0m\u001b[0m\n",
            "\u001b[0;31mTypeError\u001b[0m: unsupported operand type(s) for -: 'list' and 'list'"
          ]
        }
      ]
    },
    {
      "cell_type": "markdown",
      "metadata": {
        "id": "txmvNW_fwP-U"
      },
      "source": [
        "3.\tUsing value, value2 = 30, 4. Type the commands"
      ]
    },
    {
      "cell_type": "code",
      "execution_count": null,
      "metadata": {
        "colab": {
          "base_uri": "https://localhost:8080/"
        },
        "id": "t8j3zQv8wbuR",
        "outputId": "c4552669-11d2-40be-f520-a984a6ab751f"
      },
      "outputs": [
        {
          "name": "stdout",
          "output_type": "stream",
          "text": [
            "120\n",
            "16\n",
            "64\n",
            "137\n",
            "7.5\n",
            "2\n"
          ]
        }
      ],
      "source": [
        "value,value2 = 30, 4\n",
        "#a\n",
        "print (value*value2)\n",
        "#b\n",
        "print (value2**2)\n",
        "#c\n",
        "print (value2**3)\n",
        "#d\n",
        "print (value*value2+value2**2+1)\n",
        "#e\n",
        "print (value/value2)\n",
        "#f\n",
        "print (value%value2)\n"
      ]
    },
    {
      "cell_type": "markdown",
      "metadata": {
        "id": "8K0acLtSxTH7"
      },
      "source": [
        "Assigning Input Data to a Variable\n",
        "Finding a person’s BMI (metric)"
      ]
    },
    {
      "cell_type": "code",
      "execution_count": null,
      "metadata": {
        "colab": {
          "base_uri": "https://localhost:8080/"
        },
        "id": "cwAJk-LSxYeL",
        "outputId": "513fe6ce-354f-4345-b108-fdc4d00a2940"
      },
      "outputs": [
        {
          "name": "stdout",
          "output_type": "stream",
          "text": [
            "Enter your name: John Ray\n",
            "Enter your weight(kg): 60\n",
            "Enter you height(m):1.6764\n",
            "Name:  John Ray\n",
            "Weight:  60.0\n",
            "Height:  1.6764\n",
            "BMI: 21.349904958763087\n"
          ]
        }
      ],
      "source": [
        "#1\n",
        "name = input (\"Enter your name: \")\n",
        "#2\n",
        "weight = float(input(\"Enter your weight(kg): \"))\n",
        "#3\n",
        "height = float(input(\"Enter you height(m):\"))\n",
        "#4\n",
        "bmi = weight/height**2\n",
        "\n",
        "print (\"Name: \", name)\n",
        "print (\"Weight: \", weight)\n",
        "print (\"Height: \", height)\n",
        "print (\"BMI:\", bmi)\n",
        "\n",
        "\n"
      ]
    },
    {
      "cell_type": "markdown",
      "metadata": {
        "id": "9cGHi6qE0u4w"
      },
      "source": [
        "1.\tWrite the Python equivalent code of the following C code:"
      ]
    },
    {
      "cell_type": "code",
      "execution_count": null,
      "metadata": {
        "colab": {
          "base_uri": "https://localhost:8080/"
        },
        "id": "w7WtOiCe07oF",
        "outputId": "87e6f564-7774-4f73-9438-4c28c3513f67"
      },
      "outputs": [
        {
          "name": "stdout",
          "output_type": "stream",
          "text": [
            "Enter the base of the triangle: 10\n",
            "Enter the height of the triangle: 12.5\n",
            "The area of the triangle is  62.5\n"
          ]
        }
      ],
      "source": [
        "\n",
        "base = float(input(\"Enter the base of the triangle: \")) # Convert base to float\n",
        "height = float(input(\"Enter the height of the triangle: \")) # Convert height to float\n",
        "area = (1/2)*base*height\n",
        "print(\"The area of the triangle is \", area)\n",
        "\n"
      ]
    },
    {
      "cell_type": "markdown",
      "metadata": {
        "id": "f9YYHGgU2Pje"
      },
      "source": [
        "2.\tWrite a program that would convert Celsius to Fahrenheit given the formula: F = (C × 9/5) + 32 Example of conversion:\n",
        "\n",
        "\n",
        "\n",
        "0°C = 32 °F\n",
        "-20°C = -4 °F\n",
        "\n"
      ]
    },
    {
      "cell_type": "code",
      "execution_count": null,
      "metadata": {
        "colab": {
          "base_uri": "https://localhost:8080/"
        },
        "id": "RpHNsTht2N9-",
        "outputId": "ceb75622-74a5-4c23-9b45-37f9217000ca"
      },
      "outputs": [
        {
          "output_type": "stream",
          "name": "stdout",
          "text": [
            "Enter a number in celcius: 12\n",
            "The temperature in Fahrenheit is  53.6\n"
          ]
        }
      ],
      "source": [
        "C = float(input(\"Enter a number in celcius: \"))\n",
        "\n",
        "F = (C*9/5)+32\n",
        "print (\"The temperature in Fahrenheit is \",F)\n"
      ]
    },
    {
      "cell_type": "markdown",
      "metadata": {
        "id": "BIXKLIoQ5kB-"
      },
      "source": [
        "3.\tWrite a program that can determine the distance between two points given the coordinates using the formula:\n",
        "\n",
        "\n",
        "\n",
        "𝒅 = √(𝒙𝟐 − 𝒙𝟏)𝟐 + (𝒚𝟐 − 𝒚𝟏)𝟐"
      ]
    },
    {
      "cell_type": "code",
      "execution_count": null,
      "metadata": {
        "colab": {
          "base_uri": "https://localhost:8080/"
        },
        "id": "eLOaaVXZ5pad",
        "outputId": "7f8ce18a-bac6-44cb-ac7e-3d7ca88404bd"
      },
      "outputs": [
        {
          "name": "stdout",
          "output_type": "stream",
          "text": [
            "Enter the first x coordinate: 2\n",
            "Enter the second x coordinate: -3\n",
            "Enter the first y coordinate: 2\n",
            "Enter the second y coordinate: 3\n",
            "The distance between two points is 5.0990195135927845\n"
          ]
        }
      ],
      "source": [
        "x1 = float(input(\"Enter the first x coordinate: \"))\n",
        "x2 = float(input(\"Enter the second x coordinate: \"))\n",
        "y1 = float(input(\"Enter the first y coordinate: \"))\n",
        "y2 = float(input(\"Enter the second y coordinate: \"))\n",
        "\n",
        "distance = ((x2-x1)**2+(y2-y1)**2)**0.5\n",
        "print (\"The distance between two points is\", distance)"
      ]
    }
  ],
  "metadata": {
    "colab": {
      "provenance": [],
      "authorship_tag": "ABX9TyO9Ief4+BzeAcGbfu/VuZX8",
      "include_colab_link": true
    },
    "kernelspec": {
      "display_name": "Python 3",
      "name": "python3"
    },
    "language_info": {
      "name": "python"
    }
  },
  "nbformat": 4,
  "nbformat_minor": 0
}
