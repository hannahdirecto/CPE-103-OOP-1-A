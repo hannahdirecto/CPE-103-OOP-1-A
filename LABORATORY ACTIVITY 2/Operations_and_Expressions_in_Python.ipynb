{
  "nbformat": 4,
  "nbformat_minor": 0,
  "metadata": {
    "colab": {
      "provenance": [],
      "authorship_tag": "ABX9TyNiatguVPtL7Cetu1HskfKx",
      "include_colab_link": true
    },
    "kernelspec": {
      "name": "python3",
      "display_name": "Python 3"
    },
    "language_info": {
      "name": "python"
    }
  },
  "cells": [
    {
      "cell_type": "markdown",
      "metadata": {
        "id": "view-in-github",
        "colab_type": "text"
      },
      "source": [
        "<a href=\"https://colab.research.google.com/github/hannahdirecto/CPE-103-OOP-1-A/blob/main/Operations_and_Expressions_in_Python.ipynb\" target=\"_parent\"><img src=\"https://colab.research.google.com/assets/colab-badge.svg\" alt=\"Open In Colab\"/></a>"
      ]
    },
    {
      "cell_type": "markdown",
      "source": [
        "Boolean Operators"
      ],
      "metadata": {
        "id": "noHru8SXyOVc"
      }
    },
    {
      "cell_type": "code",
      "source": [
        "print (10 > 9)\n",
        "print (10 == 0)\n",
        "print (10 < 9)"
      ],
      "metadata": {
        "colab": {
          "base_uri": "https://localhost:8080/"
        },
        "id": "9304ia8IyZPj",
        "outputId": "2584b8c8-56be-4c10-d587-9af18fc7e398"
      },
      "execution_count": 1,
      "outputs": [
        {
          "output_type": "stream",
          "name": "stdout",
          "text": [
            "True\n",
            "False\n",
            "False\n"
          ]
        }
      ]
    },
    {
      "cell_type": "markdown",
      "source": [
        "Bool() Function"
      ],
      "metadata": {
        "id": "ysI4BZ2SzXxs"
      }
    },
    {
      "cell_type": "code",
      "source": [
        "print (bool (1))\n",
        "print (bool (0))\n",
        "print (bool (-2))"
      ],
      "metadata": {
        "colab": {
          "base_uri": "https://localhost:8080/"
        },
        "id": "VB1SUHonzYM8",
        "outputId": "9d5ed17c-866d-4e98-f1c6-9f5f3868f77d"
      },
      "execution_count": 2,
      "outputs": [
        {
          "output_type": "stream",
          "name": "stdout",
          "text": [
            "True\n",
            "False\n",
            "True\n"
          ]
        }
      ]
    },
    {
      "cell_type": "markdown",
      "source": [
        "Function can return a Boolean"
      ],
      "metadata": {
        "id": "7hNsrgKlz7G7"
      }
    },
    {
      "cell_type": "code",
      "source": [
        "def myfunction():\n",
        "  return True\n",
        "\n",
        "print (myfunction())"
      ],
      "metadata": {
        "colab": {
          "base_uri": "https://localhost:8080/"
        },
        "id": "fOkCAqnOz64r",
        "outputId": "2e962bf3-0297-4f6c-e1dd-02f43f74033d"
      },
      "execution_count": 5,
      "outputs": [
        {
          "output_type": "stream",
          "name": "stdout",
          "text": [
            "True\n"
          ]
        }
      ]
    },
    {
      "cell_type": "code",
      "source": [
        "def myfunction():\n",
        "  return True\n",
        "\n",
        "if myfunction():\n",
        "  print (\"YES!\")\n",
        "else:\n",
        "  print (\"NO!\")"
      ],
      "metadata": {
        "colab": {
          "base_uri": "https://localhost:8080/"
        },
        "id": "fdPMTUqS1Qvk",
        "outputId": "950ad36d-1f19-44fb-c48a-b7c3c816f3b8"
      },
      "execution_count": 6,
      "outputs": [
        {
          "output_type": "stream",
          "name": "stdout",
          "text": [
            "YES!\n"
          ]
        }
      ]
    },
    {
      "cell_type": "code",
      "source": [
        "print (10 > 9)\n",
        "\n",
        "a=6\n",
        "b=7\n",
        "print (a==b)\n",
        "print (a!=b)"
      ],
      "metadata": {
        "colab": {
          "base_uri": "https://localhost:8080/"
        },
        "id": "3RO3F3Vl1goD",
        "outputId": "10c2c16b-43df-4ef4-da78-722acec9dba8"
      },
      "execution_count": 7,
      "outputs": [
        {
          "output_type": "stream",
          "name": "stdout",
          "text": [
            "True\n",
            "False\n",
            "True\n"
          ]
        }
      ]
    },
    {
      "cell_type": "markdown",
      "source": [
        "Python Operators"
      ],
      "metadata": {
        "id": "9HiSoBjB2ECc"
      }
    },
    {
      "cell_type": "code",
      "source": [
        "print (10+5)\n",
        "print (10-5)\n",
        "print (10*5)\n",
        "print (10/5)\n",
        "print (10%5)\n",
        "print (10//3)\n",
        "print (10**2)"
      ],
      "metadata": {
        "colab": {
          "base_uri": "https://localhost:8080/"
        },
        "id": "CifcR0DO2HSy",
        "outputId": "3d96f14c-9b33-4ac4-ea5a-0440df97c201"
      },
      "execution_count": 14,
      "outputs": [
        {
          "output_type": "stream",
          "name": "stdout",
          "text": [
            "15\n",
            "5\n",
            "50\n",
            "2.0\n",
            "0\n",
            "3\n",
            "100\n"
          ]
        }
      ]
    },
    {
      "cell_type": "markdown",
      "source": [
        "Python Bitwise Operators"
      ],
      "metadata": {
        "id": "NUrUr2Im3Wc8"
      }
    },
    {
      "cell_type": "code",
      "source": [
        "a = 60\n",
        "b = 13\n",
        "print (a & b)\n",
        "print (a | b)\n",
        "print (a ^ b)\n",
        "print (~a)\n",
        "print (a << 2)\n",
        "print (a >> 2)"
      ],
      "metadata": {
        "colab": {
          "base_uri": "https://localhost:8080/"
        },
        "id": "fiMK283a32pb",
        "outputId": "7b72d7d4-a6ad-49de-955c-521cb1641e26"
      },
      "execution_count": 19,
      "outputs": [
        {
          "output_type": "stream",
          "name": "stdout",
          "text": [
            "12\n",
            "61\n",
            "49\n",
            "-61\n",
            "240\n",
            "15\n"
          ]
        }
      ]
    },
    {
      "cell_type": "markdown",
      "source": [
        "Python Assignment Operators"
      ],
      "metadata": {
        "id": "wknBwJn7-nWz"
      }
    },
    {
      "cell_type": "code",
      "source": [
        "x=5\n",
        "\n",
        "x+=3\n",
        "print (x)\n",
        "\n",
        "x-=3\n",
        "print (x)\n",
        "\n",
        "x*=3\n",
        "print (x)\n",
        "\n",
        "x/=3\n",
        "print (x)\n",
        "\n",
        "x%=3\n",
        "print (x)"
      ],
      "metadata": {
        "colab": {
          "base_uri": "https://localhost:8080/"
        },
        "id": "EyjWqopG-sEq",
        "outputId": "3ecb1606-486f-482e-ae66-23cb1b8cdaa2"
      },
      "execution_count": 24,
      "outputs": [
        {
          "output_type": "stream",
          "name": "stdout",
          "text": [
            "8\n",
            "5\n",
            "15\n",
            "5.0\n",
            "2.0\n"
          ]
        }
      ]
    },
    {
      "cell_type": "markdown",
      "source": [
        "Logical Operator"
      ],
      "metadata": {
        "id": "yLnG3aMzCvlE"
      }
    },
    {
      "cell_type": "code",
      "source": [
        "10>9 and 9>10"
      ],
      "metadata": {
        "colab": {
          "base_uri": "https://localhost:8080/"
        },
        "id": "bbwoDVa5CvNd",
        "outputId": "259b0183-589b-44d5-e482-38035efa5905"
      },
      "execution_count": 25,
      "outputs": [
        {
          "output_type": "execute_result",
          "data": {
            "text/plain": [
              "False"
            ]
          },
          "metadata": {},
          "execution_count": 25
        }
      ]
    },
    {
      "cell_type": "markdown",
      "source": [
        "Identity Operators"
      ],
      "metadata": {
        "id": "Bx6X_wtFGxM2"
      }
    },
    {
      "cell_type": "code",
      "source": [
        "x = 1\n",
        "y = 2\n",
        "print (x is y)\n",
        "print (x is not y)"
      ],
      "metadata": {
        "colab": {
          "base_uri": "https://localhost:8080/"
        },
        "id": "uDiZ90AvGxlN",
        "outputId": "e6b944bb-dad8-4e7f-d8be-3b1e0fe14188"
      },
      "execution_count": 27,
      "outputs": [
        {
          "output_type": "stream",
          "name": "stdout",
          "text": [
            "False\n",
            "True\n"
          ]
        }
      ]
    },
    {
      "cell_type": "markdown",
      "source": [
        "Conditional Statement"
      ],
      "metadata": {
        "id": "63XBqp70HHIM"
      }
    },
    {
      "cell_type": "code",
      "source": [
        "#1. If Statement\n",
        "a = 12\n",
        "b = 100\n",
        "if b > a:\n",
        "  print (\"b is greater than a\")"
      ],
      "metadata": {
        "colab": {
          "base_uri": "https://localhost:8080/"
        },
        "id": "WxODPRr-HMH7",
        "outputId": "44415a9f-d7f5-423b-990d-6c4d561f6dd5"
      },
      "execution_count": 31,
      "outputs": [
        {
          "output_type": "stream",
          "name": "stdout",
          "text": [
            "b is greater than a\n",
            "b is less than a\n"
          ]
        }
      ]
    },
    {
      "cell_type": "code",
      "source": [
        "#2 Elif Statements\n",
        "\n",
        "a = 12\n",
        "b = 100\n",
        "\n",
        "if b > a:\n",
        "  print (\"b is greater than a\")\n",
        "elif a == b:\n",
        "  print (\"a and b are equal\")"
      ],
      "metadata": {
        "colab": {
          "base_uri": "https://localhost:8080/"
        },
        "id": "oXSamHzCMH1d",
        "outputId": "ad11c15d-3280-4a10-e754-420bdf866d9c"
      },
      "execution_count": 35,
      "outputs": [
        {
          "output_type": "stream",
          "name": "stdout",
          "text": [
            "b is greater than a\n"
          ]
        }
      ]
    },
    {
      "cell_type": "code",
      "source": [
        "#3 Else statements\n",
        "a = 12\n",
        "b = 100\n",
        "\n",
        "if b > a:\n",
        "  print (\"b is greater than a\")\n",
        "elif a == b:\n",
        "  print (\"a and b are equal\")\n",
        "else:\n",
        "  print (\"a is greater than b\")"
      ],
      "metadata": {
        "colab": {
          "base_uri": "https://localhost:8080/"
        },
        "id": "MX6QT1jLN0EN",
        "outputId": "116df1b1-4667-47c0-f4c9-6ccf15e00936"
      },
      "execution_count": 36,
      "outputs": [
        {
          "output_type": "stream",
          "name": "stdout",
          "text": [
            "b is greater than a\n"
          ]
        }
      ]
    },
    {
      "cell_type": "code",
      "source": [
        "#Short HAnd If Statement\n",
        "\n",
        "if a>b: print (\"a is greater than b\")"
      ],
      "metadata": {
        "id": "2Pzb_92GOAid"
      },
      "execution_count": 40,
      "outputs": []
    },
    {
      "cell_type": "code",
      "source": [
        "#5 Short Hand If.else Statement\n",
        "\n",
        "a = 2\n",
        "b = 330\n",
        "print (\"A\") if a > b else print (\"B\")"
      ],
      "metadata": {
        "colab": {
          "base_uri": "https://localhost:8080/"
        },
        "id": "83EHHe7cONVd",
        "outputId": "e23203b5-0bca-4936-b964-e1339898d86d"
      },
      "execution_count": 41,
      "outputs": [
        {
          "output_type": "stream",
          "name": "stdout",
          "text": [
            "B\n"
          ]
        }
      ]
    },
    {
      "cell_type": "code",
      "source": [
        "#6 And-both Conditions are true\n",
        "\n",
        "a = 200\n",
        "b = 33\n",
        "c = 500\n",
        "if a > b and c > a:\n",
        "  print (\"Both conditions are True\")"
      ],
      "metadata": {
        "colab": {
          "base_uri": "https://localhost:8080/"
        },
        "id": "YFCbtBBUOXZV",
        "outputId": "e6b306a1-6278-435f-9a4e-74f227e30335"
      },
      "execution_count": 42,
      "outputs": [
        {
          "output_type": "stream",
          "name": "stdout",
          "text": [
            "Both conditions are True\n"
          ]
        }
      ]
    },
    {
      "cell_type": "code",
      "source": [
        "#7 Or- at least one of the condition is true\n",
        "\n",
        "a = 200\n",
        "b = 33\n",
        "c = 500\n",
        "if a > b or a > c:\n",
        "  print (\"At least one of the conditions is True\")"
      ],
      "metadata": {
        "colab": {
          "base_uri": "https://localhost:8080/"
        },
        "id": "zY3CgIrQOkA9",
        "outputId": "d8f05ed7-5ae7-4777-cc32-f993dce8135b"
      },
      "execution_count": 43,
      "outputs": [
        {
          "output_type": "stream",
          "name": "stdout",
          "text": [
            "At least one of the conditions is True\n"
          ]
        }
      ]
    },
    {
      "cell_type": "code",
      "source": [
        "#8 Nested If\n",
        "x = 49.99\n",
        "\n",
        "if x > 10:\n",
        "  print (\"above 10\")\n",
        "  if x > 20:\n",
        "    print (\"and also above 20!\")\n",
        "    if x > 30:\n",
        "      print (\"above 30\")\n",
        "      if x > 40:\n",
        "        print (\"above 40\")\n",
        "        if x < 50:\n",
        "         print (\"below fifty\")\n",
        "        else:\n",
        "         print (\"not above 50\")\n",
        "      else:\n",
        "       print (\"not above 40\")\n",
        "    else:\n",
        "     print (\"not above 30\")\n",
        "  else:\n",
        "   print (\"not above 20\")\n",
        "else:\n",
        " print (\"not above 10\")"
      ],
      "metadata": {
        "colab": {
          "base_uri": "https://localhost:8080/"
        },
        "id": "XU6G93TGPnNN",
        "outputId": "148014cf-d22e-42e1-8662-b6f6e61b65e0"
      },
      "execution_count": 56,
      "outputs": [
        {
          "output_type": "stream",
          "name": "stdout",
          "text": [
            "above 10\n",
            "and also above 20!\n",
            "above 30\n",
            "above 40\n",
            "below fifty\n"
          ]
        }
      ]
    },
    {
      "cell_type": "markdown",
      "source": [
        "ACTIVITY"
      ],
      "metadata": {
        "id": "cn2cWxdeYWke"
      }
    },
    {
      "cell_type": "code",
      "source": [
        "#1\n",
        "\n",
        "age = float (input(\"Enter your name: \"))\n",
        "if age >= 18:\n",
        "    print (\"You are qualified to vote\")\n",
        "else:\n",
        "    print (\"You are not qualified to vote\")"
      ],
      "metadata": {
        "colab": {
          "base_uri": "https://localhost:8080/"
        },
        "id": "oC3VSvYMXgNm",
        "outputId": "10e38325-46e3-4cc9-c395-49d3efaac726"
      },
      "execution_count": 67,
      "outputs": [
        {
          "output_type": "stream",
          "name": "stdout",
          "text": [
            "Enter your name: 9\n",
            "You are not qualified to vote\n"
          ]
        }
      ]
    },
    {
      "cell_type": "code",
      "source": [
        "#2\n",
        "\n",
        "num = float(input(\"Enter a number: \"))\n",
        "if num > 0:\n",
        "   print(\"Positive number\")\n",
        "elif num == 0:\n",
        "   print(\"Zero\")\n",
        "else:\n",
        "   print(\"Negative number\")"
      ],
      "metadata": {
        "colab": {
          "base_uri": "https://localhost:8080/"
        },
        "id": "UMfLXQjNZVAm",
        "outputId": "e2249bab-c347-4d00-d70a-cffc67f2eb34"
      },
      "execution_count": 70,
      "outputs": [
        {
          "output_type": "stream",
          "name": "stdout",
          "text": [
            "Enter a number: 0\n",
            "Zero\n"
          ]
        }
      ]
    },
    {
      "cell_type": "code",
      "source": [
        "#3\n",
        "\n",
        "grade = float(input(\"Enter your grade: \"))\n",
        "if grade >= 75:\n",
        "  print(\"Passed\")\n",
        "elif grade == 74:\n",
        "  print(\"Remedial\")\n",
        "else:\n",
        "  print(\"Failed\")"
      ],
      "metadata": {
        "colab": {
          "base_uri": "https://localhost:8080/"
        },
        "id": "5GH4-BLvZmmW",
        "outputId": "6bf71a4a-28ba-4582-c316-937fb94c5028"
      },
      "execution_count": 76,
      "outputs": [
        {
          "output_type": "stream",
          "name": "stdout",
          "text": [
            "Enter your grade: 70\n",
            "Failed\n"
          ]
        }
      ]
    }
  ]
}