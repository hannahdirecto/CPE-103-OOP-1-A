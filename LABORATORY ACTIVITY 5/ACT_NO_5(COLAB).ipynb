{
  "nbformat": 4,
  "nbformat_minor": 0,
  "metadata": {
    "colab": {
      "provenance": [],
      "authorship_tag": "ABX9TyPh/1ggtykLtJhdTglTuY+B",
      "include_colab_link": true
    },
    "kernelspec": {
      "name": "python3",
      "display_name": "Python 3"
    },
    "language_info": {
      "name": "python"
    }
  },
  "cells": [
    {
      "cell_type": "markdown",
      "metadata": {
        "id": "view-in-github",
        "colab_type": "text"
      },
      "source": [
        "<a href=\"https://colab.research.google.com/github/hannahdirecto/CPE-103-OOP-1-A/blob/main/LAB_ACT_NO_5.ipynb\" target=\"_parent\"><img src=\"https://colab.research.google.com/assets/colab-badge.svg\" alt=\"Open In Colab\"/></a>"
      ]
    },
    {
      "cell_type": "markdown",
      "source": [
        "# **FUNCTIONS**"
      ],
      "metadata": {
        "id": "PZMufgftng7E"
      }
    },
    {
      "cell_type": "markdown",
      "source": [
        "**Exploring built-in functions**\n",
        "\n",
        "(evaluator.py)"
      ],
      "metadata": {
        "id": "KxR_ClgPoSec"
      }
    },
    {
      "cell_type": "code",
      "execution_count": null,
      "metadata": {
        "colab": {
          "base_uri": "https://localhost:8080/"
        },
        "id": "KvmYq5BJjug4",
        "outputId": "ac77316a-f280-44dc-dedf-40aa87589ffa"
      },
      "outputs": [
        {
          "output_type": "stream",
          "name": "stdout",
          "text": [
            "Propositional logic evaluator for discrete math\n",
            "How many variable? 2\n",
            "Enter the propositional logic expression: B\n",
            "A B f\n",
            "0 0 0\n",
            "0 1 1\n",
            "1 0 0\n",
            "1 1 1\n"
          ]
        }
      ],
      "source": [
        "#Propositional Logic evaluator fro discrete math for 2-3 variables\n",
        "print (\"Propositional logic evaluator for discrete math\")\n",
        "variables = int(input(\"How many variable? \"))\n",
        "total_combinations = 2** variables\n",
        "\n",
        "\n",
        "combinations_list = []\n",
        "\n",
        "#generate the combinations\n",
        "for i in range (total_combinations):\n",
        "    bin_equivalent = bin(i)[2:]\n",
        "    while len (bin_equivalent)<variables:\n",
        "        bin_equivalent = \"0\" + bin_equivalent\n",
        "    combinations_list.append(tuple(int(val)for val in bin_equivalent))\n",
        "\n",
        "#main program\n",
        "expression = input (\"Enter the propositional logic expression: \")\n",
        "\n",
        "if variables == 2:\n",
        "    print (\"A B f\")\n",
        "    for A,B in combinations_list:\n",
        "        evaluated_expression = eval (expression)\n",
        "        print (A,B, evaluated_expression)\n",
        "elif variables == 3:\n",
        "    print (\"A B C f\")\n",
        "    for A,B,C in combinations_list:\n",
        "        evaluated_expression = eval (expression)\n",
        "        print (A,B,C, evaluated_expression)\n"
      ]
    },
    {
      "cell_type": "markdown",
      "source": [
        "**Using the open() funciton for file handling**\n"
      ],
      "metadata": {
        "id": "5RG4t8gOtxIM"
      }
    },
    {
      "cell_type": "markdown",
      "source": [
        "(filewriter.py)"
      ],
      "metadata": {
        "id": "C_c5Hi4E5k59"
      }
    },
    {
      "cell_type": "code",
      "source": [
        "#filewriter\n",
        "name = \"Ropyce Chua\"\n",
        "file = open (\"newfile1.txt\", 'w')\n",
        "file.write (f\"Hello, {name}!\\n\")\n",
        "file.write (\"Isn't this amazing!\\n\")\n",
        "file.write (\"that we can create and write on text files\\n\")\n",
        "file.write (\"using python.\")\n",
        "file.close\n",
        "\n",
        "name = \"Royce Chua\"\n",
        "file = open(\"newfile2.txt\", 'w')\n",
        "file.write(\"This message was created using Python!\\n\")\n",
        "file.close()"
      ],
      "metadata": {
        "id": "0HD37092t1iE"
      },
      "execution_count": null,
      "outputs": []
    },
    {
      "cell_type": "markdown",
      "source": [
        "(filereader.py)"
      ],
      "metadata": {
        "id": "xqSYfPTp5qUT"
      }
    },
    {
      "cell_type": "code",
      "source": [
        "#filereader\n",
        "file = open (\"newfile1.txt\", 'r')\n",
        "data = file.read()\n",
        "print (data)\n",
        "file.close()\n",
        "\n",
        "file = open(\"newfile2.txt\", 'r')\n",
        "data = file.read ()\n",
        "print (data)\n",
        "file.close ()"
      ],
      "metadata": {
        "id": "Y4siU2EYzPyy",
        "colab": {
          "base_uri": "https://localhost:8080/"
        },
        "outputId": "aa06a6a6-ef27-4747-c09e-cef57441f0fb"
      },
      "execution_count": null,
      "outputs": [
        {
          "output_type": "stream",
          "name": "stdout",
          "text": [
            "Hello, Ropyce Chua!\n",
            "Isn't this amazing!\n",
            "that we can create and write on text files\n",
            "using python.\n",
            "This message was created using Python!\n",
            "\n"
          ]
        }
      ]
    },
    {
      "cell_type": "markdown",
      "source": [
        "(fileappender.py)"
      ],
      "metadata": {
        "id": "alsZ9utb5von"
      }
    },
    {
      "cell_type": "code",
      "source": [
        "#file appender\n",
        "file = open (\"newfile2.txt\",'a')\n",
        "file.write (\"and also by the programmer of course.\")\n",
        "file.close\n"
      ],
      "metadata": {
        "colab": {
          "base_uri": "https://localhost:8080/"
        },
        "id": "MHRYGF25KTx0",
        "outputId": "677a35f5-0813-47af-de62-7062b3210908"
      },
      "execution_count": null,
      "outputs": [
        {
          "output_type": "execute_result",
          "data": {
            "text/plain": [
              "<function TextIOWrapper.close()>"
            ]
          },
          "metadata": {},
          "execution_count": 9
        }
      ]
    },
    {
      "cell_type": "markdown",
      "source": [
        "USER FUNCTIONS"
      ],
      "metadata": {
        "id": "F46epJpJKrRH"
      }
    },
    {
      "cell_type": "markdown",
      "source": [
        "(truthtablegenerator.py)"
      ],
      "metadata": {
        "id": "UIXTu-9X5y73"
      }
    },
    {
      "cell_type": "code",
      "source": [
        "#generating truthtable\n",
        "\n",
        "def generate_truthtable (number_of_variables):\n",
        "    total_combinations = 2 ** number_of_variables\n",
        "    combinations_list = []\n",
        "    for i in range (total_combinations):\n",
        "        bin_equivalent =bin (i)[2:]\n",
        "        while len (bin_equivalent)<number_of_variables:\n",
        "            bin_equivalent = \"0\" + bin_equivalent\n",
        "        combinations_list.append(tuple(int(val) for val in bin_equivalent))\n",
        "    return combinations_list\n",
        "\n",
        "print (generate_truthtable(3))"
      ],
      "metadata": {
        "colab": {
          "base_uri": "https://localhost:8080/"
        },
        "id": "6TrAw4xUKke_",
        "outputId": "3fa85455-8755-4d3f-abb3-feb88c7c9652"
      },
      "execution_count": null,
      "outputs": [
        {
          "output_type": "stream",
          "name": "stdout",
          "text": [
            "[(0, 0, 0), (0, 0, 1), (0, 1, 0), (0, 1, 1), (1, 0, 0), (1, 0, 1), (1, 1, 0), (1, 1, 1)]\n"
          ]
        }
      ]
    },
    {
      "cell_type": "code",
      "source": [
        "def generate_truthtable(number_of_variables=0):\n",
        "    if number_of_variables == 0:\n",
        "        return \"You need to enter an integer\"\n",
        "    else:\n",
        "        total_combinations = 2 ** number_of_variables\n",
        "        combinations_list = []\n",
        "        for i in range(total_combinations):\n",
        "            bin_equivalent = bin(i)[2:].zfill(number_of_variables)\n",
        "            combinations_list.append(tuple(int(val) for val in bin_equivalent))\n",
        "        return combinations_list\n",
        "\n",
        "\n",
        "def evaluate_propositional_logic(c_list):\n",
        "    expression = input(\"Enter the propositional logic expression: \")\n",
        "\n",
        "    if len(c_list[0]) == 2:\n",
        "        print(\"A B f\")\n",
        "        for A, B in c_list:\n",
        "            print(A, B, eval(expression))\n",
        "    elif len(c_list[0]) == 3:\n",
        "        print(\"A B C f\")\n",
        "        for A, B, C in c_list:\n",
        "            print(A, B, C, eval(expression))\n",
        "\n",
        "\n",
        "evaluate_propositional_logic(generate_truthtable(3))"
      ],
      "metadata": {
        "colab": {
          "base_uri": "https://localhost:8080/"
        },
        "id": "JHxyVoVhb0Kb",
        "outputId": "1ab580e5-a68d-4bdb-d521-d7511fc4cfdd"
      },
      "execution_count": null,
      "outputs": [
        {
          "output_type": "stream",
          "name": "stdout",
          "text": [
            "Enter the propositional logic expression: 1\n",
            "A B C f\n",
            "0 0 0 1\n",
            "0 0 1 1\n",
            "0 1 0 1\n",
            "0 1 1 1\n",
            "1 0 0 1\n",
            "1 0 1 1\n",
            "1 1 0 1\n",
            "1 1 1 1\n"
          ]
        }
      ]
    },
    {
      "cell_type": "markdown",
      "source": [
        "**MATH MODULE**"
      ],
      "metadata": {
        "id": "ea-uLwMlQsFH"
      }
    },
    {
      "cell_type": "markdown",
      "source": [
        "(mathmodule.py)"
      ],
      "metadata": {
        "id": "nvHOxY0F6BVM"
      }
    },
    {
      "cell_type": "code",
      "source": [
        "import math\n",
        "\n",
        "def quadratic_formula(a,b,c):\n",
        "    if b**2-(4*a*c)<0:\n",
        "       x1 = (complex(-b, math.floor(math.sqrt(abs(b**2-(4*a*c))))))/2*a\n",
        "       x2 = (complex(-b, -1*math.floor(math.sqrt(abs(b**2-(4*a*c))))))/2*a\n",
        "       return x1, x2\n",
        "    else:\n",
        "        x1 = (-b+math.sqrt(b**2-(4*a*c)))/(2*a)\n",
        "        x2 = (-b-math.sqrt(b**2-(4*a*c)))/(2*a)\n",
        "        return x1, x2\n",
        "\n",
        "print (quadratic_formula(1,2,3))"
      ],
      "metadata": {
        "colab": {
          "base_uri": "https://localhost:8080/"
        },
        "id": "bVBOpji1Qw9H",
        "outputId": "de5feaff-c434-427a-de94-16ee3c29a17d"
      },
      "execution_count": null,
      "outputs": [
        {
          "output_type": "stream",
          "name": "stdout",
          "text": [
            "((-1+1j), (-1-1j))\n"
          ]
        }
      ]
    },
    {
      "cell_type": "markdown",
      "source": [
        "(mathmodule2.py)"
      ],
      "metadata": {
        "id": "T9zPmxd86R3H"
      }
    },
    {
      "cell_type": "code",
      "source": [
        "import math\n",
        "\n",
        "def angle_demo():\n",
        "    angle = math.sin(math.pi/2)\n",
        "\n",
        "    print (angle)\n",
        "\n",
        "    angle = math.sin(math.radians(90))\n",
        "    print (angle)\n",
        "\n",
        "angle_demo()"
      ],
      "metadata": {
        "colab": {
          "base_uri": "https://localhost:8080/"
        },
        "id": "n2sTmZSY6rz9",
        "outputId": "ec62aa74-e937-4d89-9f93-2e973b35d2c2"
      },
      "execution_count": null,
      "outputs": [
        {
          "output_type": "stream",
          "name": "stdout",
          "text": [
            "1.0\n",
            "1.0\n"
          ]
        }
      ]
    },
    {
      "cell_type": "markdown",
      "source": [
        "(dateanddtime.py)\n",
        "\n"
      ],
      "metadata": {
        "id": "UN3zP1AUYXKw"
      }
    },
    {
      "cell_type": "code",
      "source": [
        "import time\n",
        "\n",
        "def pause ():\n",
        "    for i in range (10,0,-1):\n",
        "        print (f\"The program will end {i}..\")\n",
        "        time.sleep(1)\n",
        "\n",
        "def current_time():\n",
        "    t = time.strftime (\"%I:%M %p\")\n",
        "    return t\n",
        "\n",
        "def current_date():\n",
        "    d = time.strftime (\"%b %d %Y\")\n",
        "    return d"
      ],
      "metadata": {
        "id": "cbvec9Tk7PiV"
      },
      "execution_count": null,
      "outputs": []
    },
    {
      "cell_type": "code",
      "source": [
        "print (\"The current time is\", current_time())\n",
        "print (\"The current date is\", current_date())\n"
      ],
      "metadata": {
        "colab": {
          "base_uri": "https://localhost:8080/"
        },
        "id": "qgvSKDpDEP7l",
        "outputId": "18de9b14-d499-4245-a878-22a12e4e7e59"
      },
      "execution_count": null,
      "outputs": [
        {
          "output_type": "stream",
          "name": "stdout",
          "text": [
            "The current time is 01:15 AM\n",
            "The current date is Feb 21 2025\n"
          ]
        }
      ]
    },
    {
      "cell_type": "markdown",
      "source": [
        "# **SUPPLEMENTARY ACTIVITY**"
      ],
      "metadata": {
        "id": "aKvmMUq_5Llm"
      }
    },
    {
      "cell_type": "markdown",
      "source": [
        "Simple Word Filter\n",
        "1.\tCreate a function that would accept two inputs: a sentence(string), and a list containing bad words that the user would like to censor but not remove. The function should return the newly filtered sentence wherein the bad words are replaced with asterisks equal to the length of the censored word.\n"
      ],
      "metadata": {
        "id": "DeAb6MacF0m-"
      }
    },
    {
      "cell_type": "code",
      "source": [
        "def censor_words(sentence, badwords):\n",
        "    for word in badwords:\n",
        "        sentence = sentence.replace(word, \"*\" * len(word))\n",
        "        sentence = sentence.replace(word.capitalize(), \"*\" * len(word))\n",
        "    return sentence\n",
        "\n",
        "sentence = input(\"Enter a sentence: \")\n",
        "badwords_list = [\"dumb\", \"shit\", \"stupid\", \"damn it\", \"piss off\"]\n",
        "\n",
        "print(\"Censored Sentence:\", censored_sentence)"
      ],
      "metadata": {
        "id": "_9pniVdO5Qi4",
        "colab": {
          "base_uri": "https://localhost:8080/"
        },
        "outputId": "641b4f4e-9c45-438e-89dc-357537887373"
      },
      "execution_count": null,
      "outputs": [
        {
          "output_type": "stream",
          "name": "stdout",
          "text": [
            "Enter a sentence: Damn it, I'm so stupid!\n",
            "Censored Sentence: *******, I'm so ******!\n"
          ]
        }
      ]
    },
    {
      "cell_type": "markdown",
      "source": [
        "2.\tGiven a certain Physics problem create a function(projectilemotion_solver) that would take in the following inputs below and return the needed information when the function is called. Name the program containing the function projectilemotion.py then create another program main_program.py and import projectilemotion.py\n",
        "\n",
        "“A long jumper leaves the ground at an angle of 20.0° above the horizontal and at a speed of 11.0 m/s. “\n",
        "\n",
        "(a)\tHow far does he jump in the horizontal direction?\n",
        "\n",
        "(b)\tWhat is the maximum height reached?\n",
        "\n",
        "Given a projectile motion problem like this where the angle and speed are given, the range or distance travelled in the horizontal direction can be determined by using the formula:\n",
        "\n",
        "\n",
        "𝑅 = 𝑣𝑖2𝑠𝑖𝑛2𝜃𝑖 / 𝑔\n",
        "\n",
        "The maximum height can be determined using the formula:\n",
        "\n",
        "ℎ = 𝑣𝑖2𝑠𝑖𝑛2𝜃𝑖 / 2g\n"
      ],
      "metadata": {
        "id": "v0jzOuz2ON3x"
      }
    },
    {
      "cell_type": "markdown",
      "source": [
        "(projectilemotion.py)"
      ],
      "metadata": {
        "id": "-WfTvvuGSODu"
      }
    },
    {
      "cell_type": "code",
      "source": [
        "import math\n",
        "\n",
        "def projectilemotion_solver(velocity, angle):\n",
        "    g = 9.81\n",
        "\n",
        "    theta_rad = math.radians(angle)\n",
        "\n",
        "    range = (velocity ** 2 * math.sin(2 * theta_rad)) / g\n",
        "\n",
        "    max_height = (velocity ** 2 * (math.sin(theta_rad) ** 2)) / (2 * g)\n",
        "\n",
        "    return range, max_height"
      ],
      "metadata": {
        "id": "_HqDb97RP2_1"
      },
      "execution_count": null,
      "outputs": []
    },
    {
      "cell_type": "markdown",
      "source": [
        "(main.py)"
      ],
      "metadata": {
        "id": "GAXmiGf9Sfiv"
      }
    },
    {
      "cell_type": "code",
      "source": [
        "velocity = 11\n",
        "angle = 20\n",
        "\n",
        "range, max_height = projectilemotion_solver(velocity,angle)\n",
        "\n",
        "print(f\"Horizontal Distance (Range): {range:.2f} m\")\n",
        "print(f\"Maximum Height: {max_height:.2f} m\")"
      ],
      "metadata": {
        "colab": {
          "base_uri": "https://localhost:8080/"
        },
        "id": "FVjpJM5XSeq2",
        "outputId": "e826844d-91cb-4419-af07-dcb103757d38"
      },
      "execution_count": null,
      "outputs": [
        {
          "output_type": "stream",
          "name": "stdout",
          "text": [
            "Horizontal Distance (Range): 7.93 m\n",
            "Maximum Height: 0.72 m\n"
          ]
        }
      ]
    },
    {
      "cell_type": "markdown",
      "source": [
        "3.\tCreate a quadratic equation solver module that would write the inputs of the user and the corresponding output into text files."
      ],
      "metadata": {
        "id": "rthTADfFTyNl"
      }
    },
    {
      "cell_type": "code",
      "source": [
        "\n",
        "import math\n",
        "\n",
        "def solve_quadratic(a, b, c):\n",
        "    discriminant = b**2 - 4*a*c\n",
        "\n",
        "    if discriminant > 0:\n",
        "        root1 = (-b + math.sqrt(discriminant)) / (2*a)\n",
        "        root2 = (-b - math.sqrt(discriminant)) / (2*a)\n",
        "        return root1, root2\n",
        "    elif discriminant == 0:\n",
        "        root = -b / (2*a)\n",
        "        return root,\n",
        "    else:\n",
        "        return \"No real roots\"\n",
        "\n",
        "def log_to_file(a, b, c, result):\n",
        "    with open(\"quadratic_solutions.txt\", \"a\") as file:\n",
        "        file.write(f\"Equation: {a}x^2 + {b}x + {c} = 0\\n\")\n",
        "        file.write(f\"Solution: {result}\\n\")\n",
        "        file.write(\"-\" * 30 + \"\\n\")\n",
        "\n",
        "def main():\n",
        "    a = float(input(\"Enter coefficient a: \"))\n",
        "    b = float(input(\"Enter coefficient b: \"))\n",
        "    c = float(input(\"Enter coefficient c: \"))\n",
        "\n",
        "    if a == 0:\n",
        "        print(\"Not a quadratic equation.\")\n",
        "        return\n",
        "\n",
        "    result = solve_quadratic(a, b, c)\n",
        "    print(\"Solution:\", result)\n",
        "    log_to_file(a, b, c, result)\n",
        "\n",
        "if __name__ == \"__main__\":\n",
        "    main()\n"
      ],
      "metadata": {
        "colab": {
          "base_uri": "https://localhost:8080/"
        },
        "id": "OPMfgseJZIqB",
        "outputId": "937c37d4-dedb-445d-8a4b-09a9a113f078"
      },
      "execution_count": 4,
      "outputs": [
        {
          "output_type": "stream",
          "name": "stdout",
          "text": [
            "Enter coefficient a: 5\n",
            "Enter coefficient b: 2\n",
            "Enter coefficient c: -3\n",
            "Solution: (0.6, -1.0)\n"
          ]
        }
      ]
    }
  ]
}