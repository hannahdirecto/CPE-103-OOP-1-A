{
  "cells": [
    {
      "cell_type": "markdown",
      "metadata": {
        "id": "view-in-github",
        "colab_type": "text"
      },
      "source": [
        "<a href=\"https://colab.research.google.com/github/hannahdirecto/CPE-103-OOP-1-A/blob/main/oop_5_2.ipynb\" target=\"_parent\"><img src=\"https://colab.research.google.com/assets/colab-badge.svg\" alt=\"Open In Colab\"/></a>"
      ]
    },
    {
      "cell_type": "markdown",
      "metadata": {
        "id": "OvE8ntIhX2W5"
      },
      "source": [
        "**Opening Files**"
      ]
    },
    {
      "cell_type": "code",
      "execution_count": null,
      "metadata": {
        "colab": {
          "base_uri": "https://localhost:8080/"
        },
        "id": "g87Lj4cehC2g",
        "outputId": "abfba16b-8e03-4cc0-a42e-165350f1af2f"
      },
      "outputs": [
        {
          "output_type": "stream",
          "name": "stdout",
          "text": [
            "<_io.TextIOWrapper name='mbox.txt' mode='r' encoding='utf-8'>\n"
          ]
        }
      ],
      "source": [
        "fhand = open('mbox.txt')\n",
        "print(fhand)"
      ]
    },
    {
      "cell_type": "code",
      "execution_count": null,
      "metadata": {
        "id": "wl6Wm_L5XkJK"
      },
      "outputs": [],
      "source": [
        "fhand = open('stuff.txt')"
      ]
    },
    {
      "cell_type": "markdown",
      "metadata": {
        "id": "DeMJ2ZoRX70q"
      },
      "source": [
        "**Text Files and Lines**"
      ]
    },
    {
      "cell_type": "code",
      "execution_count": null,
      "metadata": {
        "colab": {
          "base_uri": "https://localhost:8080/",
          "height": 36
        },
        "id": "xkxccZcmYBVh",
        "outputId": "d5ccf17b-64b5-4fd2-8234-d3c3090c21d2"
      },
      "outputs": [
        {
          "output_type": "execute_result",
          "data": {
            "text/plain": [
              "'Hello\\nWorld!'"
            ],
            "application/vnd.google.colaboratory.intrinsic+json": {
              "type": "string"
            }
          },
          "metadata": {},
          "execution_count": 11
        }
      ],
      "source": [
        "stuff = 'Hello\\nWorld!'\n",
        "stuff"
      ]
    },
    {
      "cell_type": "code",
      "execution_count": null,
      "metadata": {
        "colab": {
          "base_uri": "https://localhost:8080/"
        },
        "id": "PWoMQBV4YL9a",
        "outputId": "5335b293-1476-4c43-b3b5-8e9816c58178"
      },
      "outputs": [
        {
          "output_type": "stream",
          "name": "stdout",
          "text": [
            "Hello\n",
            "World!\n"
          ]
        }
      ],
      "source": [
        "print(stuff)"
      ]
    },
    {
      "cell_type": "code",
      "execution_count": null,
      "metadata": {
        "colab": {
          "base_uri": "https://localhost:8080/"
        },
        "id": "tZ9mhJ-EYQIq",
        "outputId": "20274e73-44ad-4d11-b7a1-e61b6064f427"
      },
      "outputs": [
        {
          "output_type": "stream",
          "name": "stdout",
          "text": [
            "X\n",
            "Y\n"
          ]
        }
      ],
      "source": [
        "stuff = 'X\\nY'\n",
        "print(stuff)"
      ]
    },
    {
      "cell_type": "code",
      "execution_count": null,
      "metadata": {
        "colab": {
          "base_uri": "https://localhost:8080/"
        },
        "id": "CLq5lQn4YX3y",
        "outputId": "4746e935-5108-4f34-dbe6-15662bde9155"
      },
      "outputs": [
        {
          "output_type": "execute_result",
          "data": {
            "text/plain": [
              "3"
            ]
          },
          "metadata": {},
          "execution_count": 14
        }
      ],
      "source": [
        "len(stuff)"
      ]
    },
    {
      "cell_type": "markdown",
      "metadata": {
        "id": "0-TvJ-7lYmqa"
      },
      "source": [
        "**Reading Files**"
      ]
    },
    {
      "cell_type": "code",
      "execution_count": null,
      "metadata": {
        "colab": {
          "base_uri": "https://localhost:8080/"
        },
        "id": "h_sE9j5LZVCi",
        "outputId": "d7709d05-27a7-4d58-d976-2864f99d716d"
      },
      "outputs": [
        {
          "output_type": "stream",
          "name": "stdout",
          "text": [
            "Line Count: 7\n"
          ]
        }
      ],
      "source": [
        "fhand = open('mbox-short.txt')\n",
        "count = 0\n",
        "for line in fhand:\n",
        "    count += 1\n",
        "print('Line Count:', count)"
      ]
    },
    {
      "cell_type": "code",
      "execution_count": null,
      "metadata": {
        "id": "EPCWisYeYxSh",
        "colab": {
          "base_uri": "https://localhost:8080/"
        },
        "outputId": "95b22ac9-57b8-4ac6-dcb6-8627888ddae5"
      },
      "outputs": [
        {
          "output_type": "stream",
          "name": "stdout",
          "text": [
            "335\n"
          ]
        }
      ],
      "source": [
        "fhand = open('mbox-short.txt')\n",
        "inp = fhand.read()\n",
        "print(len(inp))"
      ]
    },
    {
      "cell_type": "code",
      "execution_count": null,
      "metadata": {
        "colab": {
          "base_uri": "https://localhost:8080/"
        },
        "id": "kQb5fHU9Y-i6",
        "outputId": "2052fd55-72d9-45a4-d2b6-56031588759b"
      },
      "outputs": [
        {
          "output_type": "stream",
          "name": "stdout",
          "text": [
            "From stephen.marquar\n"
          ]
        }
      ],
      "source": [
        "print(inp[:20])"
      ]
    },
    {
      "cell_type": "code",
      "execution_count": null,
      "metadata": {
        "id": "xKoLA733ZXyi",
        "colab": {
          "base_uri": "https://localhost:8080/"
        },
        "outputId": "f4e3efcc-0fc7-43e4-a5ce-ec3fcdb241b7"
      },
      "outputs": [
        {
          "output_type": "stream",
          "name": "stdout",
          "text": [
            "335\n"
          ]
        }
      ],
      "source": [
        "fhand = open('mbox-short.txt')\n",
        "print(len(fhand.read()))"
      ]
    },
    {
      "cell_type": "code",
      "execution_count": null,
      "metadata": {
        "id": "_K2hJgCRZRKJ",
        "colab": {
          "base_uri": "https://localhost:8080/"
        },
        "outputId": "62ff7be6-24e1-4a02-b689-d9d5f6f11184"
      },
      "outputs": [
        {
          "output_type": "stream",
          "name": "stdout",
          "text": [
            "0\n"
          ]
        }
      ],
      "source": [
        "print(len(fhand.read()))"
      ]
    },
    {
      "cell_type": "markdown",
      "metadata": {
        "id": "NGo78B7vZjMC"
      },
      "source": [
        "**Searching Through Files**"
      ]
    },
    {
      "cell_type": "code",
      "execution_count": null,
      "metadata": {
        "id": "7UgQBP3oayCB",
        "colab": {
          "base_uri": "https://localhost:8080/"
        },
        "outputId": "0f4ea778-a501-4520-9569-c0e359dd682c"
      },
      "outputs": [
        {
          "output_type": "stream",
          "name": "stdout",
          "text": [
            "From: stephen.marquard@uct.ac.za\n",
            "\n",
            "From: louis@media.berkeley.edu\n",
            "\n",
            "From: zqian@umich.edu\n",
            "\n",
            "From: rjlowe@iupui.edu\n"
          ]
        }
      ],
      "source": [
        "fhand = open('mbox-short.txt')\n",
        "for line in fhand:\n",
        "    if line.startswith('From:'):\n",
        "      print(line)"
      ]
    },
    {
      "cell_type": "code",
      "execution_count": null,
      "metadata": {
        "id": "mbBTN2_6b2Zx",
        "colab": {
          "base_uri": "https://localhost:8080/"
        },
        "outputId": "b08f2044-4ae6-45b0-ddf5-e5c5d3e7b375"
      },
      "outputs": [
        {
          "output_type": "stream",
          "name": "stdout",
          "text": [
            "From: stephen.marquard@uct.ac.za\n",
            "From: louis@media.berkeley.edu\n",
            "From: zqian@umich.edu\n",
            "From: rjlowe@iupui.edu\n"
          ]
        }
      ],
      "source": [
        "fhand = open('mbox-short.txt')\n",
        "for line in fhand:\n",
        "    line = line.rstrip()\n",
        "    if not line.startswith('From:'):\n",
        "      continue\n",
        "    print(line)"
      ]
    },
    {
      "cell_type": "code",
      "source": [
        "fhand = open('mbox-short.txt')\n",
        "for line in fhand:\n",
        "    line = line.rstrip()\n",
        "    if not line.startswith('From:'):\n",
        "      continue\n",
        "    print(line)"
      ],
      "metadata": {
        "colab": {
          "base_uri": "https://localhost:8080/"
        },
        "id": "FduPdfgTICTj",
        "outputId": "63f1fff0-f4cd-40c5-e06f-7b6f6e4096f6"
      },
      "execution_count": null,
      "outputs": [
        {
          "output_type": "stream",
          "name": "stdout",
          "text": [
            "From: stephen.marquard@uct.ac.za\n",
            "From: louis@media.berkeley.edu\n",
            "From: zqian@umich.edu\n",
            "From: rjlowe@iupui.edu\n"
          ]
        }
      ]
    },
    {
      "cell_type": "code",
      "execution_count": null,
      "metadata": {
        "id": "boHwZbnCcX9h",
        "colab": {
          "base_uri": "https://localhost:8080/"
        },
        "outputId": "0cc80de0-7b98-42e4-826a-d225a7fba36d"
      },
      "outputs": [
        {
          "output_type": "stream",
          "name": "stdout",
          "text": [
            "From: stephen.marquard@uct.ac.za\n"
          ]
        }
      ],
      "source": [
        "fhand = open('mbox-short.txt')\n",
        "for line in fhand:\n",
        "    line = line.rstrip()\n",
        "    if line.find('@uct.ac.za') == -1: continue\n",
        "    print(line)"
      ]
    },
    {
      "cell_type": "markdown",
      "metadata": {
        "id": "MUEQAMq-dIHZ"
      },
      "source": [
        "**Letting the user choose the file name**"
      ]
    },
    {
      "cell_type": "code",
      "execution_count": null,
      "metadata": {
        "id": "a6v1no8neyVT",
        "colab": {
          "base_uri": "https://localhost:8080/"
        },
        "outputId": "380ed7b5-0d61-4ac6-eadd-06390e383e7e"
      },
      "outputs": [
        {
          "output_type": "stream",
          "name": "stdout",
          "text": [
            "Enter the file name: mbox.txt\n",
            "There were 0 subject lines in mbox.txt\n"
          ]
        }
      ],
      "source": [
        "fname = input('Enter the file name: ')\n",
        "fhand = open(fname)\n",
        "count = 0\n",
        "for line in fhand:\n",
        "    if line.startswith('Subject:'):\n",
        "        count = count + 1\n",
        "print('There were', count, 'subject lines in', fname)"
      ]
    },
    {
      "cell_type": "markdown",
      "metadata": {
        "id": "TJ237ustdyuh"
      },
      "source": [
        "**Using try, except, and open**"
      ]
    },
    {
      "cell_type": "code",
      "execution_count": null,
      "metadata": {
        "id": "VK_Rhijud3ti",
        "colab": {
          "base_uri": "https://localhost:8080/"
        },
        "outputId": "f920eb7c-c7ab-48f1-f697-d2356cf598b9"
      },
      "outputs": [
        {
          "output_type": "stream",
          "name": "stdout",
          "text": [
            "Enter the file name: mbox.txt\n",
            "There were 0 subject lines in mbox.txt\n"
          ]
        }
      ],
      "source": [
        "fname = input('Enter the file name: ')\n",
        "try:\n",
        "    fhand = open(fname)\n",
        "except:\n",
        "    print(\"File cannot be opened:\", fname)\n",
        "    exit()\n",
        "count = 0\n",
        "for line in fhand:\n",
        "    if line.startswith('Subject:'):\n",
        "        count += 1\n",
        "print('There were', count, 'subject lines in', fname)"
      ]
    },
    {
      "cell_type": "markdown",
      "metadata": {
        "id": "BKSivdHYekih"
      },
      "source": [
        "**Writing Files**"
      ]
    },
    {
      "cell_type": "code",
      "execution_count": null,
      "metadata": {
        "colab": {
          "base_uri": "https://localhost:8080/"
        },
        "id": "-o2X-14OeqPL",
        "outputId": "2ca9a5bf-6ca0-49fd-dd35-2f6eeb6ff76c"
      },
      "outputs": [
        {
          "output_type": "stream",
          "name": "stdout",
          "text": [
            "<_io.TextIOWrapper name='output,txt' mode='w' encoding='utf-8'>\n"
          ]
        }
      ],
      "source": [
        "fout = open('output,txt', 'w')\n",
        "print(fout)"
      ]
    },
    {
      "cell_type": "code",
      "execution_count": null,
      "metadata": {
        "colab": {
          "base_uri": "https://localhost:8080/"
        },
        "id": "otl-8Noxe6Mi",
        "outputId": "505ed257-8fcc-4ceb-fc63-4e8b36263452"
      },
      "outputs": [
        {
          "output_type": "execute_result",
          "data": {
            "text/plain": [
              "25"
            ]
          },
          "metadata": {},
          "execution_count": 37
        }
      ],
      "source": [
        "line1 = \"This here's the wattle, \\n\"\n",
        "fout.write(line1)"
      ]
    },
    {
      "cell_type": "code",
      "execution_count": null,
      "metadata": {
        "colab": {
          "base_uri": "https://localhost:8080/"
        },
        "id": "gP4CekkVfDQg",
        "outputId": "683b06bb-efd6-477d-dcba-052f1780f642"
      },
      "outputs": [
        {
          "output_type": "execute_result",
          "data": {
            "text/plain": [
              "24"
            ]
          },
          "metadata": {},
          "execution_count": 38
        }
      ],
      "source": [
        "line2 = 'the emblem of our land.\\n'\n",
        "fout.write(line2)"
      ]
    },
    {
      "cell_type": "code",
      "execution_count": null,
      "metadata": {
        "id": "CQBYlSvwfNmB"
      },
      "outputs": [],
      "source": [
        "fout.close()"
      ]
    },
    {
      "cell_type": "markdown",
      "source": [
        "# **SUPPLEMENTARY ACTIVITY**"
      ],
      "metadata": {
        "id": "sgVrNh9On3ts"
      }
    },
    {
      "cell_type": "code",
      "source": [
        "surname = \"DIRECTO\"\n",
        "\n",
        "file_name = f\"{surname}.txt\"\n",
        "file = open(file_name, \"w\")\n",
        "file.write(f\"Analysis for {surname}:\\n\")\n",
        "file.write(f\"This program shows how to handle files in Python.\\n\")\n",
        "file.write(f\"We create and write to a text file, then read its content.\\n\")\n",
        "file.write(f\"Each line is written separately, and we print it line by line.\\n\")\n",
        "file.close()\n",
        "\n",
        "file = open(file_name, \"r\")\n",
        "print(f\"\\n{file_name} content:\")\n",
        "for line in file:\n",
        "    print(line.strip())\n",
        "file.close()\n"
      ],
      "metadata": {
        "colab": {
          "base_uri": "https://localhost:8080/"
        },
        "id": "cxMiZkt6yVan",
        "outputId": "8fcf993b-ab8e-47ee-a947-2d4b4d21c2c9"
      },
      "execution_count": null,
      "outputs": [
        {
          "output_type": "stream",
          "name": "stdout",
          "text": [
            "\n",
            "DIRECTO.txt content:\n",
            "Analysis for DIRECTO:\n",
            "This program shows how to handle files in Python.\n",
            "We create and write to a text file, then read its content.\n",
            "Each line is written separately, and we print it line by line.\n"
          ]
        }
      ]
    },
    {
      "cell_type": "code",
      "source": [
        "#CREATE\n",
        "with open(\"Directo\", \"w\") as f:\n",
        "    f.write(\"Hello, I am Hannah Thea Directo a CpE student\\n\")\n",
        "    f.write(\"I want to experience a lot through this journey.\\n\")\n",
        "\n",
        "with open(\"Directo\", \"r\") as f:\n",
        "  print(\"Reading file after creation\")\n",
        "  print(f.read())\n",
        "\n",
        "#UPDATE\n",
        "with open(\"Directo.txt\", \"w\") as f:\n",
        "      f.write(\"You only live once.\\n\")\n",
        "\n",
        "with open(\"Directo.txt\", \"r\") as f:\n",
        "  print(\"Reading file after an update:\")\n",
        "  print(f.read())\n",
        "\n",
        "#DELETE\n",
        "open(\"Directo.txt\", \"w\").close()\n",
        "\n",
        "with open(\"Directo.txt\", \"r\") as f:\n",
        "  print(\"Reading file after deletion:\")\n",
        "  print(f.read())"
      ],
      "metadata": {
        "colab": {
          "base_uri": "https://localhost:8080/"
        },
        "id": "gmMyQt8jyWqN",
        "outputId": "64b8f12d-f919-475f-95bd-f623c9e804b0"
      },
      "execution_count": 109,
      "outputs": [
        {
          "output_type": "stream",
          "name": "stdout",
          "text": [
            "Reading file after creation\n",
            "Hello, I am Hannah Thea Directo a CpE student\n",
            "I want to experience a lot through this journey.\n",
            "\n",
            "Reading file after an update:\n",
            "You only live once.\n",
            "\n",
            "Reading file after deletion:\n",
            "\n"
          ]
        }
      ]
    }
  ],
  "metadata": {
    "colab": {
      "provenance": [],
      "mount_file_id": "12V1hp073Ox7fOTu8pZ9KC7DVJLI6KFNO",
      "authorship_tag": "ABX9TyNDKQKpm7K6x/61fWQ6G4Zy",
      "include_colab_link": true
    },
    "kernelspec": {
      "display_name": "Python 3",
      "name": "python3"
    },
    "language_info": {
      "name": "python"
    }
  },
  "nbformat": 4,
  "nbformat_minor": 0
}