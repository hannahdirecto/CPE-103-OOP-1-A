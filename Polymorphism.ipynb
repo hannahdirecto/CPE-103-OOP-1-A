{
  "nbformat": 4,
  "nbformat_minor": 0,
  "metadata": {
    "colab": {
      "provenance": [],
      "authorship_tag": "ABX9TyN3dUzJ5fXxu2IuzyAfgo3B",
      "include_colab_link": true
    },
    "kernelspec": {
      "name": "python3",
      "display_name": "Python 3"
    },
    "language_info": {
      "name": "python"
    }
  },
  "cells": [
    {
      "cell_type": "markdown",
      "metadata": {
        "id": "view-in-github",
        "colab_type": "text"
      },
      "source": [
        "<a href=\"https://colab.research.google.com/github/hannahdirecto/CPE-103-OOP-1-A/blob/main/Polymorphism.ipynb\" target=\"_parent\"><img src=\"https://colab.research.google.com/assets/colab-badge.svg\" alt=\"Open In Colab\"/></a>"
      ]
    },
    {
      "cell_type": "markdown",
      "source": [
        "Creating the Classes"
      ],
      "metadata": {
        "id": "8Wx_JjpB7DVG"
      }
    },
    {
      "cell_type": "code",
      "execution_count": 4,
      "metadata": {
        "id": "3R9YIfO1NG1v",
        "colab": {
          "base_uri": "https://localhost:8080/"
        },
        "outputId": "f5602840-ab31-41a8-f458-f0423f298d18"
      },
      "outputs": [
        {
          "output_type": "stream",
          "name": "stdout",
          "text": [
            "Enter feet and inches of distance 1:10 25\n",
            "Enter feet and inches of distance 2:12 21\n",
            "Distance 2 is greater than Distance 1\n",
            "Sum of the two Distance is:\n",
            "Feet= 23 Inches= 34\n"
          ]
        }
      ],
      "source": [
        "class distance:\n",
        "  def __init__(self, f,i):\n",
        "    self.feet = f\n",
        "    self.inches = i\n",
        "\n",
        "  def __gt__(self,d):\n",
        "    if (self.feet > d.feet):\n",
        "      return (True)\n",
        "    elif ((self.feet == d.feet) and (self.inches>d.inches)):\n",
        "      return True\n",
        "    else:\n",
        "      return False\n",
        "\n",
        "  def __add__ (self, d):\n",
        "    i = self.inches + d.inches\n",
        "    f = self.feet + d.feet\n",
        "    if (i >= 12):\n",
        "      i = i - 12\n",
        "      f = f + 1\n",
        "    return distance(f,i)\n",
        "\n",
        "  def show (self):\n",
        "    print(\"Feet=\", self.feet, \"Inches=\", self.inches)\n",
        "\n",
        "a,b = (input(\"Enter feet and inches of distance 1:\")).split()\n",
        "a,b = [int(a),int(b)]\n",
        "c,d = (input(\"Enter feet and inches of distance 2:\")).split()\n",
        "c,d = [int(c),int(d)]\n",
        "d1 = distance(a,b)\n",
        "d2 = distance(c,d)\n",
        "\n",
        "if(d1>d2):\n",
        "    print(\"Distance 1 is greater than Distance 2\")\n",
        "else:\n",
        "    print(\"Distance 2 is greater than Distance 1\")\n",
        "d3 = d1 + d2\n",
        "print(\"Sum of the two Distance is:\")\n",
        "d3.show()"
      ]
    },
    {
      "cell_type": "markdown",
      "source": [
        "Testing and Observing Polymorphism"
      ],
      "metadata": {
        "id": "vbgTAaXceAFx"
      }
    },
    {
      "cell_type": "code",
      "source": [
        "class RegularPolygon:\n",
        "    def __init__ (self, side):\n",
        "        self._side = side\n",
        "class Square(RegularPolygon):\n",
        "    def area (self):\n",
        "        return self._side * self._side\n",
        "class Equilateraltriangle(RegularPolygon):\n",
        "    def area (self):\n",
        "        return self._side * self._side * 0.433\n",
        "\n",
        "obj1 = Square (4)\n",
        "obj2 = Equilateraltriangle (3)\n",
        "\n",
        "print(obj1.area())\n",
        "print(obj2.area())"
      ],
      "metadata": {
        "colab": {
          "base_uri": "https://localhost:8080/"
        },
        "id": "DEHo5IZZees-",
        "outputId": "4bc02676-b525-41d1-c801-6982bccdfc47"
      },
      "execution_count": 6,
      "outputs": [
        {
          "output_type": "stream",
          "name": "stdout",
          "text": [
            "16\n",
            "3.897\n"
          ]
        }
      ]
    },
    {
      "cell_type": "markdown",
      "source": [
        "# **SUPPLEMENTARY ACTIVITY**"
      ],
      "metadata": {
        "id": "ieISiBvPifsw"
      }
    },
    {
      "cell_type": "code",
      "source": [
        "class RegularPolygon:\n",
        "    def __init__ (self, side):\n",
        "        self._side = side\n",
        "class Square(RegularPolygon):\n",
        "    def area (self):\n",
        "        return self._side * self._side\n",
        "class Equilateraltriangle(RegularPolygon):\n",
        "    def area (self):\n",
        "        return self._side * self._side * 0.433\n",
        "class Rectangle(RegularPolygon):\n",
        "    def __init__ (self, side1, side2):\n",
        "        self._side1 = side1\n",
        "        self._side2 = side2\n",
        "    def area (self):\n",
        "        return self._side1 * self._side2\n",
        "class Rhombus(RegularPolygon):\n",
        "    def __init__ (self, diagonal1, diagonal2):\n",
        "        self._diagonal1 = diagonal1\n",
        "        self._diagonal2 = diagonal2\n",
        "    def area (self):\n",
        "        return (self._diagonal1 * self._diagonal2)/2\n",
        "class Hexagon(RegularPolygon):\n",
        "    def area (self):\n",
        "        return (3 * 1.732 * self._side * self._side)/2\n",
        "\n",
        "obj1 = Square (4)\n",
        "obj2 = Equilateraltriangle (3)\n",
        "obj3 = Rectangle (6,12)\n",
        "obj4 = Rhombus (6,9)\n",
        "obj5 = Hexagon (4)\n",
        "\n",
        "print(\"Area of Square is: \", obj1.area())\n",
        "print(\"Area of Equilateral Triangle is: \", obj2.area())\n",
        "print(\"Area of Rectangle is: \", obj3.area())\n",
        "print(\"Area of Rhombus is: \", obj4.area())\n",
        "print(\"Area of Hexagon is: \", obj5.area())"
      ],
      "metadata": {
        "colab": {
          "base_uri": "https://localhost:8080/"
        },
        "id": "p3gJDWO1ij7l",
        "outputId": "d66e7af8-239d-4ca4-8a24-c0eab79beebc"
      },
      "execution_count": 14,
      "outputs": [
        {
          "output_type": "stream",
          "name": "stdout",
          "text": [
            "Area of Square is:  16\n",
            "Area of Equilateral Triangle is:  3.897\n",
            "Area of Rectangle is:  72\n",
            "Area of Rhombus is:  27.0\n",
            "Area of Hexagon is:  41.568\n"
          ]
        }
      ]
    }
  ]
}