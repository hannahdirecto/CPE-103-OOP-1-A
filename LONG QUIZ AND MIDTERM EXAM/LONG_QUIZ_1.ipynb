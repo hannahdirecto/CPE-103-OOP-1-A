{
  "nbformat": 4,
  "nbformat_minor": 0,
  "metadata": {
    "colab": {
      "provenance": [],
      "authorship_tag": "ABX9TyMBctW5lexJhY4jlznqB/rW",
      "include_colab_link": true
    },
    "kernelspec": {
      "name": "python3",
      "display_name": "Python 3"
    },
    "language_info": {
      "name": "python"
    }
  },
  "cells": [
    {
      "cell_type": "markdown",
      "metadata": {
        "id": "view-in-github",
        "colab_type": "text"
      },
      "source": [
        "<a href=\"https://colab.research.google.com/github/hannahdirecto/CPE-103-OOP-1-A/blob/main/LONG_QUIZ_1.ipynb\" target=\"_parent\"><img src=\"https://colab.research.google.com/assets/colab-badge.svg\" alt=\"Open In Colab\"/></a>"
      ]
    },
    {
      "cell_type": "code",
      "source": [
        "class Student:\n",
        "    def __init__(self, student_ID, student_name, student_program, sex, weight, height):\n",
        "        self.student_ID = student_ID\n",
        "        self.student_name = student_name\n",
        "        self.student_program = student_program\n",
        "        self.sex = sex\n",
        "        self.weight = weight\n",
        "        self.height = height\n",
        "        self.enroll_courses = []\n",
        "        self.courses = {}\n",
        "\n",
        "    def student_information(self):\n",
        "        print(\"Student ID:\", self.student_ID)\n",
        "        print(\"Student Name:\", self.student_name)\n",
        "        print(\"Program:\", self.student_program)\n",
        "        print(\"Sex:\", self.sex)\n",
        "        print(\"Weight:\", self.weight)\n",
        "        print(\"Height:\", self.height)\n",
        "\n",
        "    def enroll_course(self, course):\n",
        "        if course not in self.enroll_courses:\n",
        "            self.enroll_courses.append(course)\n",
        "            self.courses[course] = None\n",
        "            print(f\"\\n{self.student_name} has been enrolled in {course}.\")\n",
        "        else:\n",
        "            print(f\"{self.student_name} is already enrolled in {course}.\")\n",
        "\n",
        "    def compute_grade(self, course, quiz, seatwork, assignment, recitation, midterm_exam, final_exam):\n",
        "        if course in self.courses:\n",
        "            class_standing = (quiz * 0.3) + (seatwork * 0.2) + (assignment * 0.3) + (recitation * 0.2)\n",
        "            midterm_grade = (class_standing * 0.5) + (midterm_exam * 0.5)\n",
        "            final_grade = (midterm_grade * 0.4) + (final_exam * 0.6)\n",
        "            self.courses[course] = final_grade\n",
        "            print(f\"\\n{self.student_name}'s final grade in {course} is {final_grade:.2f}.\")\n",
        "        else:\n",
        "            print(f\"{self.student_name} is not enrolled in {course}.\")\n",
        "\n",
        "    def view_courses(self):\n",
        "        if self.enroll_courses:\n",
        "            print(f\"{self.student_name} is enrolled in the following courses and grades:\")\n",
        "            for course in self.enroll_courses:\n",
        "                grade = self.courses[course] if self.courses[course] is not None else \"No grade yet\"\n",
        "                print(f\"{course}: {grade}\")\n",
        "        else:\n",
        "            print(f\"{self.student_name} is not enrolled in any courses.\")\n",
        "\n",
        "\n",
        "\n",
        "\n",
        "# Example Usage:\n",
        "Ana = Student(\"2505001\", \"Ana\", \"BS Industrial Engineering\", \"Female\", 49, 158)\n",
        "Ana.student_information()\n",
        "Ana.enroll_course(\"GEC 001\")\n",
        "Ana.enroll_course(\"MAT 002\")\n",
        "Ana.compute_grade(\"GEC 001\", 92, 95, 96, 93, 90, 92)\n",
        "Ana.compute_grade(\"MAT 002\", 87, 85, 89, 88, 85, 84)\n",
        "print(\"\\n___________________________\")\n",
        "Mench = Student(\"2505010\", \"Mench\", \"BS Electrical Engineering\", \"Male\", 54, 168)\n",
        "Mench.student_information()\n",
        "Mench.enroll_course(\"PHY 001\")\n",
        "Mench.compute_grade(\"PHY 001\", 86, 85, 86, 83, 80, 82)\n",
        "print(\"\\n___________________________\")\n",
        "John = Student(\"2505006\", \"John\", \"BS Computer Engineering\", \"Male\", 57, 162)\n",
        "John.student_information()\n",
        "John.enroll_course(\"CPE 103\")\n",
        "John.enroll_course(\"CHM 001\")\n",
        "John.compute_grade(\"CPE 103\", 93, 92, 94, 93, 89, 88)\n",
        "John.compute_grade(\"CHM 001\", 87, 85, 86, 82, 83, 82)\n",
        "\n"
      ],
      "metadata": {
        "colab": {
          "base_uri": "https://localhost:8080/"
        },
        "id": "uTdyK1QbzkcR",
        "outputId": "71bbde7a-17ed-4b81-82f3-a71bab48c534"
      },
      "execution_count": null,
      "outputs": [
        {
          "output_type": "stream",
          "name": "stdout",
          "text": [
            "Student ID: 2505001\n",
            "Student Name: Ana\n",
            "Program: BS Industrial Engineering\n",
            "Sex: Female\n",
            "Weight: 49\n",
            "Height: 158\n",
            "\n",
            "Ana has been enrolled in GEC 001.\n",
            "\n",
            "Ana has been enrolled in MAT 002.\n",
            "\n",
            "Ana's final grade in GEC 001 is 92.00.\n",
            "\n",
            "Ana's final grade in MAT 002 is 84.88.\n",
            "\n",
            "___________________________\n",
            "Student ID: 2505010\n",
            "Student Name: Mench\n",
            "Program: BS Electrical Engineering\n",
            "Sex: Male\n",
            "Weight: 54\n",
            "Height: 168\n",
            "\n",
            "Mench has been enrolled in PHY 001.\n",
            "\n",
            "Mench's final grade in PHY 001 is 82.24.\n",
            "\n",
            "___________________________\n",
            "Student ID: 2505006\n",
            "Student Name: John\n",
            "Program: BS Computer Engineering\n",
            "Sex: Male\n",
            "Weight: 57\n",
            "Height: 162\n",
            "\n",
            "John has been enrolled in CPE 103.\n",
            "\n",
            "John has been enrolled in CHM 001.\n",
            "\n",
            "John's final grade in CPE 103 is 89.22.\n",
            "\n",
            "John's final grade in CHM 001 is 82.86.\n"
          ]
        }
      ]
    }
  ]
}