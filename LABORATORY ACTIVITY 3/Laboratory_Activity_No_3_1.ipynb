{
  "nbformat": 4,
  "nbformat_minor": 0,
  "metadata": {
    "colab": {
      "provenance": [],
      "authorship_tag": "ABX9TyNwF1cuM3mSPDWPQP2Am5hl",
      "include_colab_link": true
    },
    "kernelspec": {
      "name": "python3",
      "display_name": "Python 3"
    },
    "language_info": {
      "name": "python"
    }
  },
  "cells": [
    {
      "cell_type": "markdown",
      "metadata": {
        "id": "view-in-github",
        "colab_type": "text"
      },
      "source": [
        "<a href=\"https://colab.research.google.com/github/hannahdirecto/CPE-103-OOP-1-A/blob/main/Laboratory_Activity_No_3_1.ipynb\" target=\"_parent\"><img src=\"https://colab.research.google.com/assets/colab-badge.svg\" alt=\"Open In Colab\"/></a>"
      ]
    },
    {
      "cell_type": "code",
      "execution_count": null,
      "metadata": {
        "id": "aAzLlBb95_OZ"
      },
      "outputs": [],
      "source": [
        "\"\"\"\n",
        "      Accounts.py\n",
        "\"\"\"\n",
        "\n",
        "class Accounts():       #create the class\n",
        "    account_number_ = 0\n",
        "    account_firstname = \"\"\n",
        "    account_lastname = \"\"\n",
        "    current_balance = 0.0\n",
        "    address = \"\"\n",
        "    email = \"\"\n",
        "\n",
        "    def update_address(self,new_address):\n",
        "        Accounts.address = new_address\n",
        "\n",
        "    def update_email(self,new_email):\n",
        "        Accounts.email = new_email"
      ]
    },
    {
      "cell_type": "code",
      "source": [
        "\"\"\"\n",
        "      ATM.py\n",
        "\"\"\"\n",
        "\n",
        "class ATM():\n",
        "  serial_number = 0\n",
        "\n",
        "  def deposit (self, account, amount):\n",
        "    account.current_balance = account.current_balance + amount\n",
        "    print (\"Deposit Complete\")\n",
        "\n",
        "  def withdraw (self, account, amount):\n",
        "    account.current_balance = account.current_balance - amount\n",
        "    print (\"Withdraw Complete\")\n",
        "\n",
        "  def check_currentbalance (self, account):\n",
        "    print (account.current_balance)"
      ],
      "metadata": {
        "id": "XWBN72c_7941"
      },
      "execution_count": null,
      "outputs": []
    },
    {
      "cell_type": "code",
      "source": [
        "\"\"\"\n",
        "      main.py\n",
        "\"\"\"\n",
        "Account1 = Accounts()  #create the intsance/object\n",
        "Account1.account_firstname =\"Royce\"\n",
        "Account1.account_lastname = \"Chua\"\n",
        "Account1.current_balance = 1000\n",
        "Account1.address = \"Silver Street Quezon City\"\n",
        "Account1.email = \"roycechua@gmail.com\"\n",
        "\n",
        "print (\"Account 1\")\n",
        "print(Account1.account_firstname)\n",
        "print(Account1.account_lastname)\n",
        "print(Account1.current_balance)\n",
        "print(Account1.address)\n",
        "print(Account1.email)\n",
        "\n",
        "print()\n",
        "\n",
        "Account2 = Accounts()\n",
        "Account2.account_firstname = \"John\"\n",
        "Account2.account_lastname = \"Doe\"\n",
        "Account2.current_balance = 2000\n",
        "Account2.address = \"Gold Street Quezon City\"\n",
        "Account2.email = \"johndoe@gmail.com\"\n",
        "\n",
        "print (\"Account 2\")\n",
        "print(Account2.account_firstname)\n",
        "print(Account2.account_lastname)\n",
        "print(Account2.current_balance)\n",
        "print(Account2.address)\n",
        "print(Account2.email)"
      ],
      "metadata": {
        "colab": {
          "base_uri": "https://localhost:8080/"
        },
        "id": "8PApLGkL9yhE",
        "outputId": "ac2484a5-5f72-4a01-8d8e-0b09f33ddabb"
      },
      "execution_count": null,
      "outputs": [
        {
          "output_type": "stream",
          "name": "stdout",
          "text": [
            "Account 1\n",
            "Royce\n",
            "Chua\n",
            "1000\n",
            "Silver Street Quezon City\n",
            "roycechua@gmail.com\n",
            "\n",
            "Account 2\n",
            "John\n",
            "Doe\n",
            "2000\n",
            "Gold Street Quezon City\n",
            "johndoe@gmail.com\n"
          ]
        }
      ]
    },
    {
      "cell_type": "code",
      "source": [
        "\"\"\"\n",
        "      Accounts.py\n",
        "\"\"\"\n",
        "\n",
        "class Accounts():       #create the class\n",
        "    account_number_ = 0\n",
        "    account_firstname = \"\"\n",
        "    account_lastname = \"\"\n",
        "    current_balance = 0.0\n",
        "    address = \"\"\n",
        "    email = \"\"\n",
        "\n",
        "    def update_address(self,new_address):\n",
        "        Accounts.address = new_address\n",
        "\n",
        "    def update_email(self,new_email):\n",
        "        Accounts.email = new_email\n",
        "\n",
        "\"\"\"\n",
        "      ATM.py\n",
        "\"\"\"\n",
        "\n",
        "class ATM():\n",
        "  serial_number = 0\n",
        "\n",
        "  def deposit (self, account, amount):\n",
        "    account.current_balance = account.current_balance + amount\n",
        "    print (\"Deposit Complete\")\n",
        "\n",
        "  def withdraw (self, account, amount):\n",
        "    account.current_balance = account.current_balance - amount\n",
        "    print (\"Withdraw Complete\")\n",
        "\n",
        "  def check_currentbalance (self, account):\n",
        "    print (account.current_balance)\n",
        "\n",
        "\"\"\"\n",
        "      main.py\n",
        "\"\"\"\n",
        "\n",
        "Account1 = Accounts()  #create the intsance/object\n",
        "Account1.account_firstname =\"Royce\"\n",
        "Account1.account_lastname = \"Chua\"\n",
        "Account1.current_balance = 1000\n",
        "Account1.address = \"Silver Street Quezon City\"\n",
        "Account1.email = \"roycechua@gmail.com\"\n",
        "\n",
        "print (\"Account 1\")\n",
        "print(Account1.account_firstname)\n",
        "print(Account1.account_lastname)\n",
        "print(Account1.current_balance)\n",
        "print(Account1.address)\n",
        "print(Account1.email)\n",
        "\n",
        "print()\n",
        "\n",
        "Account2 = Accounts()\n",
        "Account2.account_firstname = \"John\"\n",
        "Account2.account_lastname = \"Doe\"\n",
        "Account2.current_balance = 2000\n",
        "Account2.address = \"Gold Street Quezon City\"\n",
        "Account2.email = \"johndoe@gmail.com\"\n",
        "\n",
        "print (\"Account 2\")\n",
        "print(Account2.account_firstname)\n",
        "print(Account2.account_lastname)\n",
        "print(Account2.current_balance)\n",
        "print(Account2.address)\n",
        "print(Account2.email)\n",
        "\n"
      ],
      "metadata": {
        "colab": {
          "base_uri": "https://localhost:8080/"
        },
        "id": "JKVPYjGACSdU",
        "outputId": "70ad8237-663f-43d0-faab-2265486e03ea"
      },
      "execution_count": null,
      "outputs": [
        {
          "output_type": "stream",
          "name": "stdout",
          "text": [
            "Account 1\n",
            "Royce\n",
            "Chua\n",
            "1000\n",
            "Silver Street Quezon City\n",
            "roycechua@gmail.com\n",
            "\n",
            "Account 2\n",
            "John\n",
            "Doe\n",
            "2000\n",
            "Gold Street Quezon City\n",
            "johndoe@gmail.com\n"
          ]
        }
      ]
    }
  ]
}