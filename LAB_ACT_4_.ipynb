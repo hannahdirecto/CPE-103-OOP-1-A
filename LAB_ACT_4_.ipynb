{
  "nbformat": 4,
  "nbformat_minor": 0,
  "metadata": {
    "colab": {
      "provenance": [],
      "authorship_tag": "ABX9TyOT/eA23WV+FcJVy3N47BUG",
      "include_colab_link": true
    },
    "kernelspec": {
      "name": "python3",
      "display_name": "Python 3"
    },
    "language_info": {
      "name": "python"
    }
  },
  "cells": [
    {
      "cell_type": "markdown",
      "metadata": {
        "id": "view-in-github",
        "colab_type": "text"
      },
      "source": [
        "<a href=\"https://colab.research.google.com/github/hannahdirecto/CPE-103-OOP-1-A/blob/main/LAB_ACT_4_.ipynb\" target=\"_parent\"><img src=\"https://colab.research.google.com/assets/colab-badge.svg\" alt=\"Open In Colab\"/></a>"
      ]
    },
    {
      "cell_type": "markdown",
      "source": [
        "**Lists**"
      ],
      "metadata": {
        "id": "-Gpq7E9eMV1R"
      }
    },
    {
      "cell_type": "code",
      "execution_count": 20,
      "metadata": {
        "colab": {
          "base_uri": "https://localhost:8080/"
        },
        "id": "99Kls1OTGA2W",
        "outputId": "5a8c1dc1-7db0-4550-edd0-243522b5f268"
      },
      "outputs": [
        {
          "output_type": "execute_result",
          "data": {
            "text/plain": [
              "5"
            ]
          },
          "metadata": {},
          "execution_count": 20
        }
      ],
      "source": [
        "#Creating Variable named 'numberlist'\n",
        "\n",
        "numberlist = [5, 4, 2, 1, 3]\n",
        "\n",
        "len(numberlist) #a\n"
      ]
    },
    {
      "cell_type": "code",
      "source": [
        "\n",
        "print (numberlist[0]) #b\n",
        "print (numberlist[1]) #c\n",
        "print (numberlist[2]) #d\n",
        "print (numberlist[3]) #e\n",
        "print (numberlist[4]) #f\n",
        "\n",
        "\n"
      ],
      "metadata": {
        "colab": {
          "base_uri": "https://localhost:8080/"
        },
        "id": "n88eiOESG9BR",
        "outputId": "bcd224fa-f669-4441-c07f-65c915b40441"
      },
      "execution_count": 21,
      "outputs": [
        {
          "output_type": "stream",
          "name": "stdout",
          "text": [
            "5\n",
            "4\n",
            "2\n",
            "1\n",
            "3\n"
          ]
        }
      ]
    },
    {
      "cell_type": "code",
      "source": [
        "print (numberlist[5]) #g"
      ],
      "metadata": {
        "colab": {
          "base_uri": "https://localhost:8080/",
          "height": 147
        },
        "id": "XQrCDOjPH3Ah",
        "outputId": "611c4148-1419-4c2a-a89f-4eb63ee1d608"
      },
      "execution_count": 22,
      "outputs": [
        {
          "output_type": "error",
          "ename": "IndexError",
          "evalue": "list index out of range",
          "traceback": [
            "\u001b[0;31m---------------------------------------------------------------------------\u001b[0m",
            "\u001b[0;31mIndexError\u001b[0m                                Traceback (most recent call last)",
            "\u001b[0;32m<ipython-input-22-07e9975ca582>\u001b[0m in \u001b[0;36m<cell line: 0>\u001b[0;34m()\u001b[0m\n\u001b[0;32m----> 1\u001b[0;31m \u001b[0mprint\u001b[0m \u001b[0;34m(\u001b[0m\u001b[0mnumberlist\u001b[0m\u001b[0;34m[\u001b[0m\u001b[0;36m5\u001b[0m\u001b[0;34m]\u001b[0m\u001b[0;34m)\u001b[0m \u001b[0;31m#g\u001b[0m\u001b[0;34m\u001b[0m\u001b[0;34m\u001b[0m\u001b[0m\n\u001b[0m",
            "\u001b[0;31mIndexError\u001b[0m: list index out of range"
          ]
        }
      ]
    },
    {
      "cell_type": "code",
      "source": [
        "print (numberlist[-1]) #h\n",
        "print (numberlist[-2]) #i\n",
        "print (numberlist[-3]) #j\n",
        "print (numberlist[-4]) #k\n",
        "print (numberlist[-5]) #l"
      ],
      "metadata": {
        "colab": {
          "base_uri": "https://localhost:8080/"
        },
        "id": "5WTVzcbTH87I",
        "outputId": "5aae9a5d-9362-4dc7-c93c-3e325b32ce76"
      },
      "execution_count": 23,
      "outputs": [
        {
          "output_type": "stream",
          "name": "stdout",
          "text": [
            "3\n",
            "1\n",
            "2\n",
            "4\n",
            "5\n"
          ]
        }
      ]
    },
    {
      "cell_type": "code",
      "source": [
        "print (numberlist[6]) #m"
      ],
      "metadata": {
        "colab": {
          "base_uri": "https://localhost:8080/",
          "height": 147
        },
        "id": "pzDATT6QIQZI",
        "outputId": "de1f2790-9ad3-4fd2-975c-061b3ee9dded"
      },
      "execution_count": 24,
      "outputs": [
        {
          "output_type": "error",
          "ename": "IndexError",
          "evalue": "list index out of range",
          "traceback": [
            "\u001b[0;31m---------------------------------------------------------------------------\u001b[0m",
            "\u001b[0;31mIndexError\u001b[0m                                Traceback (most recent call last)",
            "\u001b[0;32m<ipython-input-24-a6e4915fa289>\u001b[0m in \u001b[0;36m<cell line: 0>\u001b[0;34m()\u001b[0m\n\u001b[0;32m----> 1\u001b[0;31m \u001b[0mprint\u001b[0m \u001b[0;34m(\u001b[0m\u001b[0mnumberlist\u001b[0m\u001b[0;34m[\u001b[0m\u001b[0;36m6\u001b[0m\u001b[0;34m]\u001b[0m\u001b[0;34m)\u001b[0m \u001b[0;31m#m\u001b[0m\u001b[0;34m\u001b[0m\u001b[0;34m\u001b[0m\u001b[0m\n\u001b[0m",
            "\u001b[0;31mIndexError\u001b[0m: list index out of range"
          ]
        }
      ]
    },
    {
      "cell_type": "markdown",
      "source": [
        "**Observation**\n",
        "\n",
        "Write your observation after printing all the values."
      ],
      "metadata": {
        "id": "IJQOLogkImXB"
      }
    },
    {
      "cell_type": "code",
      "source": [
        "#Creating Variable named 'itemList'\n",
        "\n",
        "itemlist = [1, -2.0, [1,2,3], \"Word\"]\n",
        "\n",
        "len (itemlist) #a"
      ],
      "metadata": {
        "colab": {
          "base_uri": "https://localhost:8080/"
        },
        "id": "hnlMsjkGItFZ",
        "outputId": "5c60099f-d24c-4e47-e845-1b13f986853a"
      },
      "execution_count": 16,
      "outputs": [
        {
          "output_type": "execute_result",
          "data": {
            "text/plain": [
              "4"
            ]
          },
          "metadata": {},
          "execution_count": 16
        }
      ]
    },
    {
      "cell_type": "code",
      "source": [
        "print (itemlist [0])        #b\n",
        "print (itemlist [1])        #c\n",
        "print (itemlist [2])        #d\n",
        "print (itemlist [3])        #e\n",
        "\n",
        "len(itemlist[2])            #f\n",
        "\n",
        "print (itemlist [2][0])     #g\n",
        "print (itemlist [2][1])     #h\n",
        "print (itemlist [2][2])     #i\n",
        "print (itemlist [-1])       #j\n",
        "print (itemlist [-2])       #k\n",
        "print (itemlist [-3])       #l\n",
        "print (itemlist [-4])       #m\n",
        "\n",
        "len(itemlist[-2])           #n\n",
        "\n",
        "print (itemlist[-2][0])     #o\n",
        "print (itemlist[-2][1])     #p\n",
        "print (itemlist[-2][2])     #q\n",
        "print (itemlist[-2][-3])    #r\n",
        "print (itemlist[-2][-2])    #s\n",
        "print (itemlist[-2][-1])    #t"
      ],
      "metadata": {
        "colab": {
          "base_uri": "https://localhost:8080/"
        },
        "id": "1P9etT3VJNza",
        "outputId": "d672d85e-31cf-4648-f6eb-07630733977e"
      },
      "execution_count": 19,
      "outputs": [
        {
          "output_type": "stream",
          "name": "stdout",
          "text": [
            "1\n",
            "-2.0\n",
            "[1, 2, 3]\n",
            "Word\n",
            "1\n",
            "2\n",
            "3\n",
            "Word\n",
            "[1, 2, 3]\n",
            "-2.0\n",
            "1\n",
            "1\n",
            "2\n",
            "3\n",
            "1\n",
            "2\n",
            "3\n"
          ]
        }
      ]
    },
    {
      "cell_type": "markdown",
      "source": [
        "**Observation**\n",
        "\n",
        "Write your observation after printing all the values. What does len() do?"
      ],
      "metadata": {
        "id": "cgcGZhfBLeJg"
      }
    },
    {
      "cell_type": "markdown",
      "source": [
        "**Index Slicing**"
      ],
      "metadata": {
        "id": "P0H3hfbgOX5p"
      }
    },
    {
      "cell_type": "code",
      "source": [
        "#Create new variable named 'longlist'\n",
        "\n",
        "longlist = numberlist + itemlist\n",
        "\n",
        "len(longlist)             #a"
      ],
      "metadata": {
        "colab": {
          "base_uri": "https://localhost:8080/"
        },
        "id": "3EshQJDcMx3Z",
        "outputId": "23230afa-243b-4e25-962a-b62d91b7f397"
      },
      "execution_count": 26,
      "outputs": [
        {
          "output_type": "execute_result",
          "data": {
            "text/plain": [
              "9"
            ]
          },
          "metadata": {},
          "execution_count": 26
        }
      ]
    },
    {
      "cell_type": "code",
      "source": [
        "print (longlist [:])      #b\n",
        "print (longlist[:9])      #c\n",
        "print (longlist[0:])      #d\n",
        "print (longlist[1:])      #e\n",
        "print (longlist[2:])      #f\n",
        "\n"
      ],
      "metadata": {
        "colab": {
          "base_uri": "https://localhost:8080/"
        },
        "id": "6lxTxJQ6N2cB",
        "outputId": "4fc8477b-99e5-4a9c-f610-2fb21b4f3da5"
      },
      "execution_count": 27,
      "outputs": [
        {
          "output_type": "stream",
          "name": "stdout",
          "text": [
            "[5, 4, 2, 1, 3, 1, -2.0, [1, 2, 3], 'Word']\n",
            "[5, 4, 2, 1, 3, 1, -2.0, [1, 2, 3], 'Word']\n",
            "[5, 4, 2, 1, 3, 1, -2.0, [1, 2, 3], 'Word']\n",
            "[4, 2, 1, 3, 1, -2.0, [1, 2, 3], 'Word']\n",
            "[2, 1, 3, 1, -2.0, [1, 2, 3], 'Word']\n"
          ]
        }
      ]
    },
    {
      "cell_type": "markdown",
      "source": [
        "**Index Slicing with Range**"
      ],
      "metadata": {
        "id": "zZ9Vl9jYPI6K"
      }
    },
    {
      "cell_type": "code",
      "source": [
        "print (longlist[2:5])     #g\n",
        "print (longlist[5:2])     #h\n",
        "print (longlist[8:])      #i\n",
        "print (longlist[9:])      #j\n"
      ],
      "metadata": {
        "colab": {
          "base_uri": "https://localhost:8080/"
        },
        "id": "zvs40HmsOpPR",
        "outputId": "44c09a2b-3990-420a-cd50-0dd0ded65734"
      },
      "execution_count": 28,
      "outputs": [
        {
          "output_type": "stream",
          "name": "stdout",
          "text": [
            "[2, 1, 3]\n",
            "[]\n",
            "['Word']\n",
            "[]\n"
          ]
        }
      ]
    },
    {
      "cell_type": "markdown",
      "source": [
        "**Index Slicing using Negative Indices**"
      ],
      "metadata": {
        "id": "5DvPQ-U6O-ZI"
      }
    },
    {
      "cell_type": "code",
      "source": [
        "print (longlist[-9:])     #k\n",
        "print (longlist[-8:])     #l\n",
        "print (longlist[-8:-7])   #m\n",
        "print (longlist[-1:])     #n\n"
      ],
      "metadata": {
        "colab": {
          "base_uri": "https://localhost:8080/"
        },
        "id": "C3l4lckgPQr5",
        "outputId": "929d6134-155e-4336-c547-1b216faf2a79"
      },
      "execution_count": 29,
      "outputs": [
        {
          "output_type": "stream",
          "name": "stdout",
          "text": [
            "[5, 4, 2, 1, 3, 1, -2.0, [1, 2, 3], 'Word']\n",
            "[4, 2, 1, 3, 1, -2.0, [1, 2, 3], 'Word']\n",
            "[4]\n",
            "['Word']\n"
          ]
        }
      ]
    },
    {
      "cell_type": "markdown",
      "source": [
        "**Other Properties of Index Slicing**"
      ],
      "metadata": {
        "id": "pMcS_6JWQNUx"
      }
    },
    {
      "cell_type": "code",
      "source": [
        "print (longlist[10:20])  #o\n",
        "print (longlist[-7:5])   #p"
      ],
      "metadata": {
        "colab": {
          "base_uri": "https://localhost:8080/"
        },
        "id": "Reszn6tSQk2J",
        "outputId": "9e25919f-1823-45cf-d32c-b44d397dae35"
      },
      "execution_count": 30,
      "outputs": [
        {
          "output_type": "stream",
          "name": "stdout",
          "text": [
            "[]\n",
            "[2, 1, 3]\n"
          ]
        }
      ]
    },
    {
      "cell_type": "markdown",
      "source": [
        "**Index Slicing with Step Parameter**"
      ],
      "metadata": {
        "id": "MNu9SO49Q4L5"
      }
    },
    {
      "cell_type": "code",
      "source": [
        "print (longlist[::1])        #q\n",
        "print (longlist[::2])        #r\n",
        "print (longlist[1:8:2])      #s\n",
        "print (longlist[9:1:-1])     #t\n",
        "print (longlist[-1::1])      #u\n",
        "print (longlist[-1::-1])     #v"
      ],
      "metadata": {
        "colab": {
          "base_uri": "https://localhost:8080/"
        },
        "id": "iUG0HmWERCcY",
        "outputId": "93f5ec84-f60d-432c-c34f-86c0af1d05a5"
      },
      "execution_count": 32,
      "outputs": [
        {
          "output_type": "stream",
          "name": "stdout",
          "text": [
            "[5, 4, 2, 1, 3, 1, -2.0, [1, 2, 3], 'Word']\n",
            "[5, 2, 3, -2.0, 'Word']\n",
            "[4, 1, 1, [1, 2, 3]]\n",
            "['Word', [1, 2, 3], -2.0, 1, 3, 1, 2]\n",
            "['Word']\n",
            "['Word', [1, 2, 3], -2.0, 1, 3, 1, 2, 4, 5]\n"
          ]
        }
      ]
    },
    {
      "cell_type": "markdown",
      "source": [
        "**List Methods and the Mutable Property of Lists**"
      ],
      "metadata": {
        "id": "uB6ByrDOR9cx"
      }
    },
    {
      "cell_type": "code",
      "source": [
        "#Create new variable named 'numberlist2'\n",
        "\n",
        "numberlist2 = numberlist           #1"
      ],
      "metadata": {
        "id": "5mASgb6cSDQw"
      },
      "execution_count": 35,
      "outputs": []
    },
    {
      "cell_type": "code",
      "source": [
        "print (numberlist)                 #2\n",
        "print (numberlist2)                #3"
      ],
      "metadata": {
        "colab": {
          "base_uri": "https://localhost:8080/"
        },
        "id": "ewOMJZkdS4U5",
        "outputId": "a98fe7be-9b90-4cb2-b92b-daa84ce91c75"
      },
      "execution_count": 36,
      "outputs": [
        {
          "output_type": "stream",
          "name": "stdout",
          "text": [
            "[5, 4, 2, 1, 3]\n",
            "[5, 4, 2, 1, 3]\n"
          ]
        }
      ]
    },
    {
      "cell_type": "code",
      "source": [
        "numberlist [0] = 6                 #4\n",
        "\n",
        "print (numberlist)                 #5\n",
        "print (numberlist2)                #6"
      ],
      "metadata": {
        "colab": {
          "base_uri": "https://localhost:8080/"
        },
        "id": "90ZtRSywTU0J",
        "outputId": "f7ce2f15-723a-4e73-fc51-7a5124d3d596"
      },
      "execution_count": 37,
      "outputs": [
        {
          "output_type": "stream",
          "name": "stdout",
          "text": [
            "[6, 4, 2, 1, 3]\n",
            "[6, 4, 2, 1, 3]\n"
          ]
        }
      ]
    },
    {
      "cell_type": "markdown",
      "source": [
        "Observe how numberlist2 is affected by changes in numberlist due to the assignment."
      ],
      "metadata": {
        "id": "qFt6WuOFTs9B"
      }
    },
    {
      "cell_type": "code",
      "source": [
        "numberlist2 = numberlist.copy()    #8\n",
        "\n",
        "print (numberlist2)                #9"
      ],
      "metadata": {
        "colab": {
          "base_uri": "https://localhost:8080/"
        },
        "id": "zAdhtvP8TxtB",
        "outputId": "f6ef742a-2447-4fc5-cf12-d7c3f4432bad"
      },
      "execution_count": 38,
      "outputs": [
        {
          "output_type": "stream",
          "name": "stdout",
          "text": [
            "[6, 4, 2, 1, 3]\n"
          ]
        }
      ]
    },
    {
      "cell_type": "code",
      "source": [
        "numberlist [0] = 5                 #10\n",
        "\n",
        "print (numberlist)                 #11\n",
        "print (numberlist2)                #12"
      ],
      "metadata": {
        "colab": {
          "base_uri": "https://localhost:8080/"
        },
        "id": "xput-I1DUJtZ",
        "outputId": "8b8f95d4-d2a2-4584-cfe3-f8aa569a6f68"
      },
      "execution_count": 40,
      "outputs": [
        {
          "output_type": "stream",
          "name": "stdout",
          "text": [
            "[5, 4, 2, 1, 3]\n",
            "[6, 4, 2, 1, 3]\n"
          ]
        }
      ]
    },
    {
      "cell_type": "markdown",
      "source": [
        "**Exploring some List Functions and Methods**"
      ],
      "metadata": {
        "id": "IUX714dvVkcJ"
      }
    },
    {
      "cell_type": "code",
      "source": [
        "print (numberlist)                   #1"
      ],
      "metadata": {
        "colab": {
          "base_uri": "https://localhost:8080/"
        },
        "id": "6inWxgv6YoTx",
        "outputId": "90e9e4ec-5c24-4c1a-82b7-6fe00c150a60"
      },
      "execution_count": 51,
      "outputs": [
        {
          "output_type": "stream",
          "name": "stdout",
          "text": [
            "[5, 4, 2, 1, 3, 6, 6, 6]\n"
          ]
        }
      ]
    },
    {
      "cell_type": "code",
      "source": [
        "numberlist.append(6)                 #2\n",
        "print (numberlist)                   #3"
      ],
      "metadata": {
        "colab": {
          "base_uri": "https://localhost:8080/"
        },
        "id": "ig2S5c1YYtwJ",
        "outputId": "c28d375b-ff87-4646-f7a4-eab112782e03"
      },
      "execution_count": 52,
      "outputs": [
        {
          "output_type": "stream",
          "name": "stdout",
          "text": [
            "[5, 4, 2, 1, 3, 6, 6, 6, 6]\n"
          ]
        }
      ]
    },
    {
      "cell_type": "code",
      "source": [
        "numberlist.pop()                     #4\n",
        "print (numberlist)                   #5"
      ],
      "metadata": {
        "colab": {
          "base_uri": "https://localhost:8080/"
        },
        "id": "7ViOP7a2Y0XA",
        "outputId": "b683aca7-d4ed-4dab-c9db-24e619cf123b"
      },
      "execution_count": 53,
      "outputs": [
        {
          "output_type": "stream",
          "name": "stdout",
          "text": [
            "[5, 4, 2, 1, 3, 6, 6, 6]\n"
          ]
        }
      ]
    },
    {
      "cell_type": "code",
      "source": [
        "numberlist.sort()                    #6\n",
        "print (numberlist)                   #7"
      ],
      "metadata": {
        "colab": {
          "base_uri": "https://localhost:8080/"
        },
        "id": "MfT48JMyZKXh",
        "outputId": "4ae9e29b-42a3-4ecf-c59f-bb6cf9bf27b2"
      },
      "execution_count": 54,
      "outputs": [
        {
          "output_type": "stream",
          "name": "stdout",
          "text": [
            "[1, 2, 3, 4, 5, 6, 6, 6]\n"
          ]
        }
      ]
    },
    {
      "cell_type": "code",
      "source": [
        "itemlist.sort()                      #8\n",
        "print (itemlist)"
      ],
      "metadata": {
        "colab": {
          "base_uri": "https://localhost:8080/",
          "height": 165
        },
        "id": "r6GG_eSkZb5x",
        "outputId": "889f8154-69b4-4334-a224-c2bc605d6545"
      },
      "execution_count": 55,
      "outputs": [
        {
          "output_type": "error",
          "ename": "TypeError",
          "evalue": "'<' not supported between instances of 'list' and 'float'",
          "traceback": [
            "\u001b[0;31m---------------------------------------------------------------------------\u001b[0m",
            "\u001b[0;31mTypeError\u001b[0m                                 Traceback (most recent call last)",
            "\u001b[0;32m<ipython-input-55-4d01d07a34d1>\u001b[0m in \u001b[0;36m<cell line: 0>\u001b[0;34m()\u001b[0m\n\u001b[0;32m----> 1\u001b[0;31m \u001b[0mitemlist\u001b[0m\u001b[0;34m.\u001b[0m\u001b[0msort\u001b[0m\u001b[0;34m(\u001b[0m\u001b[0;34m)\u001b[0m\u001b[0;34m\u001b[0m\u001b[0;34m\u001b[0m\u001b[0m\n\u001b[0m\u001b[1;32m      2\u001b[0m \u001b[0mprint\u001b[0m \u001b[0;34m(\u001b[0m\u001b[0mitemlist\u001b[0m\u001b[0;34m)\u001b[0m\u001b[0;34m\u001b[0m\u001b[0;34m\u001b[0m\u001b[0m\n",
            "\u001b[0;31mTypeError\u001b[0m: '<' not supported between instances of 'list' and 'float'"
          ]
        }
      ]
    },
    {
      "cell_type": "code",
      "source": [
        "#9\n",
        "print (min(numberlist))\n",
        "print (max(numberlist))"
      ],
      "metadata": {
        "colab": {
          "base_uri": "https://localhost:8080/"
        },
        "id": "pQBgK_rUZp0I",
        "outputId": "213cce2c-6982-4632-aa95-c1f39fc90da2"
      },
      "execution_count": 58,
      "outputs": [
        {
          "output_type": "stream",
          "name": "stdout",
          "text": [
            "1\n",
            "6\n"
          ]
        }
      ]
    },
    {
      "cell_type": "code",
      "source": [
        "print (longlist)                    #10\n",
        "print (longlist.count(1))           #11\n",
        "print (longlist[7].count(1))        #12"
      ],
      "metadata": {
        "colab": {
          "base_uri": "https://localhost:8080/"
        },
        "id": "H6TjiBe6biJJ",
        "outputId": "0880a2e3-22c6-4efe-fc0f-c1f89d5adbc8"
      },
      "execution_count": 60,
      "outputs": [
        {
          "output_type": "stream",
          "name": "stdout",
          "text": [
            "[5, 4, 2, 1, 3, 1, -2.0, [1, 2, 3], 'Word']\n",
            "2\n",
            "1\n"
          ]
        }
      ]
    },
    {
      "cell_type": "markdown",
      "source": [
        "**The In Operator**"
      ],
      "metadata": {
        "id": "HC783Jy4b8Tx"
      }
    },
    {
      "cell_type": "code",
      "source": [
        " print(3 in longlist)              #1\n",
        " print(15 in longlist)             #2"
      ],
      "metadata": {
        "colab": {
          "base_uri": "https://localhost:8080/"
        },
        "id": "Ci8EswGNb-lJ",
        "outputId": "40c6b1a1-893e-4bd4-ace5-5a10c89fff31"
      },
      "execution_count": 62,
      "outputs": [
        {
          "output_type": "stream",
          "name": "stdout",
          "text": [
            "True\n",
            "False\n"
          ]
        }
      ]
    },
    {
      "cell_type": "code",
      "source": [
        "#3\n",
        "num = int(input(\"Enter a number:\"))\n",
        "if num in longlist:\n",
        " print(\"The number is in longlist\")\n",
        "else:\n",
        " print(\"The number is not in longlist\")\n"
      ],
      "metadata": {
        "colab": {
          "base_uri": "https://localhost:8080/"
        },
        "id": "2a6ajzwKcgGx",
        "outputId": "9b86aab4-b3ed-4acf-c375-86e8517a0328"
      },
      "execution_count": 69,
      "outputs": [
        {
          "output_type": "stream",
          "name": "stdout",
          "text": [
            "Enter a number:5\n",
            "The number is in longlist\n"
          ]
        }
      ]
    },
    {
      "cell_type": "markdown",
      "source": [
        "\n",
        "4. Write your observations on the in operator."
      ],
      "metadata": {
        "id": "KbrdsIeSdEXJ"
      }
    },
    {
      "cell_type": "markdown",
      "source": [
        "**Using a List in an Iterative Statement**"
      ],
      "metadata": {
        "id": "55JOJOGrdOSx"
      }
    },
    {
      "cell_type": "code",
      "source": [
        "#1\n",
        "for item in longlist:\n",
        " print(item)\n"
      ],
      "metadata": {
        "colab": {
          "base_uri": "https://localhost:8080/"
        },
        "id": "Vl5o66B7dVUR",
        "outputId": "04827cf0-50e1-4163-d695-22c2a486c12f"
      },
      "execution_count": 71,
      "outputs": [
        {
          "output_type": "stream",
          "name": "stdout",
          "text": [
            "5\n",
            "4\n",
            "2\n",
            "1\n",
            "3\n",
            "1\n",
            "-2.0\n",
            "[1, 2, 3]\n",
            "Word\n"
          ]
        }
      ]
    },
    {
      "cell_type": "code",
      "source": [
        "#2\n",
        "i = 0\n",
        "while i<len(longlist):\n",
        "  print(longlist[i])\n",
        "  i+=1\n"
      ],
      "metadata": {
        "colab": {
          "base_uri": "https://localhost:8080/"
        },
        "id": "sqJRsXr_djmh",
        "outputId": "e8eb4410-b028-4a4c-a87a-ed34e30e3cf6"
      },
      "execution_count": 77,
      "outputs": [
        {
          "output_type": "stream",
          "name": "stdout",
          "text": [
            "5\n",
            "4\n",
            "2\n",
            "1\n",
            "3\n",
            "1\n",
            "-2.0\n",
            "[1, 2, 3]\n",
            "Word\n"
          ]
        }
      ]
    },
    {
      "cell_type": "markdown",
      "source": [
        "**Strings**"
      ],
      "metadata": {
        "id": "Q7UJIdN9eA0x"
      }
    },
    {
      "cell_type": "code",
      "source": [
        "#creating a variable named 'message'\n",
        "\n",
        "message = \"Hello World\"        #1\n",
        "print (message)                #2\n",
        "len (message)                  #3\n"
      ],
      "metadata": {
        "colab": {
          "base_uri": "https://localhost:8080/"
        },
        "id": "WV-JRlXOeHoR",
        "outputId": "bcbadc7c-24b2-4a9a-b5e0-6d1c0912b913"
      },
      "execution_count": 78,
      "outputs": [
        {
          "output_type": "stream",
          "name": "stdout",
          "text": [
            "Hello World\n"
          ]
        },
        {
          "output_type": "execute_result",
          "data": {
            "text/plain": [
              "11"
            ]
          },
          "metadata": {},
          "execution_count": 78
        }
      ]
    },
    {
      "cell_type": "code",
      "source": [
        "#4\n",
        "print (message[0])\n",
        "print (message[1])\n",
        "print (message[2])\n",
        "print (message[3])\n",
        "print (message[4])"
      ],
      "metadata": {
        "colab": {
          "base_uri": "https://localhost:8080/"
        },
        "id": "9OPwBK3ne0jC",
        "outputId": "31d12861-40d2-4707-90e7-5944757ca740"
      },
      "execution_count": 79,
      "outputs": [
        {
          "output_type": "stream",
          "name": "stdout",
          "text": [
            "H\n",
            "e\n",
            "l\n",
            "l\n",
            "o\n"
          ]
        }
      ]
    },
    {
      "cell_type": "code",
      "source": [
        "#Repeating the steps using negative Indexes\n",
        "\n",
        "print (message[-1])\n",
        "print (message[-2])\n",
        "print (message[-3])\n",
        "print (message[-4])\n",
        "print (message[-5])"
      ],
      "metadata": {
        "colab": {
          "base_uri": "https://localhost:8080/"
        },
        "id": "oA5eEmUAfCCo",
        "outputId": "205700c1-7075-4a5a-cb83-4f2acf5b495e"
      },
      "execution_count": 81,
      "outputs": [
        {
          "output_type": "stream",
          "name": "stdout",
          "text": [
            "d\n",
            "l\n",
            "r\n",
            "o\n",
            "W\n"
          ]
        }
      ]
    },
    {
      "cell_type": "code",
      "source": [
        "#5\n",
        "print (message[0]+ message[4]+message[3]+message[10])"
      ],
      "metadata": {
        "colab": {
          "base_uri": "https://localhost:8080/"
        },
        "id": "L3Ady5JRgSWx",
        "outputId": "aac2bfae-1157-4c36-b601-d1d57ed8c909"
      },
      "execution_count": 85,
      "outputs": [
        {
          "output_type": "stream",
          "name": "stdout",
          "text": [
            "Hold\n"
          ]
        }
      ]
    },
    {
      "cell_type": "code",
      "source": [
        "#6\n",
        "print (message[:5])\n",
        "#7\n",
        "print (message[6:])"
      ],
      "metadata": {
        "colab": {
          "base_uri": "https://localhost:8080/"
        },
        "id": "ngmlkA8Zg3BJ",
        "outputId": "0f480016-cf88-4ec2-80a6-3157f02e6c55"
      },
      "execution_count": 87,
      "outputs": [
        {
          "output_type": "stream",
          "name": "stdout",
          "text": [
            "Hello\n",
            "World\n"
          ]
        }
      ]
    },
    {
      "cell_type": "markdown",
      "source": [
        "**String Method**"
      ],
      "metadata": {
        "id": "lFjpw4wnhha5"
      }
    },
    {
      "cell_type": "code",
      "source": [],
      "metadata": {
        "id": "9tGv9WKAhjfZ"
      },
      "execution_count": null,
      "outputs": []
    }
  ]
}