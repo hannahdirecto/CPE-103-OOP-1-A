{
  "nbformat": 4,
  "nbformat_minor": 0,
  "metadata": {
    "colab": {
      "provenance": [],
      "authorship_tag": "ABX9TyNYoei9TYOlF+5exbO777yh",
      "include_colab_link": true
    },
    "kernelspec": {
      "name": "python3",
      "display_name": "Python 3"
    },
    "language_info": {
      "name": "python"
    }
  },
  "cells": [
    {
      "cell_type": "markdown",
      "metadata": {
        "id": "view-in-github",
        "colab_type": "text"
      },
      "source": [
        "<a href=\"https://colab.research.google.com/github/hannahdirecto/CPE-103-OOP-1-A/blob/main/Python_Fundamentals.ipynb\" target=\"_parent\"><img src=\"https://colab.research.google.com/assets/colab-badge.svg\" alt=\"Open In Colab\"/></a>"
      ]
    },
    {
      "cell_type": "markdown",
      "source": [
        "Python Indentions"
      ],
      "metadata": {
        "id": "KQ8DW68SFgqx"
      }
    },
    {
      "cell_type": "code",
      "source": [
        "if 5>2:\n",
        "  print(\"Five is greater than 2!\")"
      ],
      "metadata": {
        "colab": {
          "base_uri": "https://localhost:8080/"
        },
        "id": "nTn-91mFF655",
        "outputId": "cb991162-870c-4179-94f7-ce614d9391ec"
      },
      "execution_count": 5,
      "outputs": [
        {
          "output_type": "stream",
          "name": "stdout",
          "text": [
            "Five is greater than 2!\n"
          ]
        }
      ]
    },
    {
      "cell_type": "code",
      "source": [
        "x=2\n",
        "y=5\n",
        "\n",
        "if x>y:\n",
        "  print (\"x is greater than y\")\n",
        "else:\n",
        "  print (\"y is greater than x\")"
      ],
      "metadata": {
        "colab": {
          "base_uri": "https://localhost:8080/"
        },
        "id": "Y7TkTeB4Jhkg",
        "outputId": "497806f8-e65a-4315-dfbe-a2db13f88520"
      },
      "execution_count": 8,
      "outputs": [
        {
          "output_type": "stream",
          "name": "stdout",
          "text": [
            "y is greater than x\n"
          ]
        }
      ]
    },
    {
      "cell_type": "markdown",
      "source": [
        "Python Comments"
      ],
      "metadata": {
        "id": "abCPRKaIIqgx"
      }
    },
    {
      "cell_type": "code",
      "source": [
        "#This is a comment\n",
        "print(\"Hello World\")"
      ],
      "metadata": {
        "colab": {
          "base_uri": "https://localhost:8080/"
        },
        "id": "I8iMa51qIwLg",
        "outputId": "dd006d59-c4eb-40a3-fde4-b38e8e519723"
      },
      "execution_count": 6,
      "outputs": [
        {
          "output_type": "stream",
          "name": "stdout",
          "text": [
            "Hello world\n"
          ]
        }
      ]
    },
    {
      "cell_type": "markdown",
      "source": [
        "Python Variable"
      ],
      "metadata": {
        "id": "6_OV61lsKT9h"
      }
    },
    {
      "cell_type": "code",
      "source": [
        "\n",
        "x = 1\n",
        "a, b = 0,-1\n",
        "a, b, c = 0,1, \"Sally\"\n",
        "print (x)\n",
        "print (a)\n",
        "print (b)\n",
        "print (c)"
      ],
      "metadata": {
        "colab": {
          "base_uri": "https://localhost:8080/"
        },
        "id": "SmvXfYJfKXg5",
        "outputId": "ea688cee-fecd-4968-ce87-3975dae1df4c"
      },
      "execution_count": 50,
      "outputs": [
        {
          "output_type": "stream",
          "name": "stdout",
          "text": [
            "1\n",
            "0\n",
            "1\n",
            "Sally\n"
          ]
        }
      ]
    },
    {
      "cell_type": "markdown",
      "source": [
        "Casting"
      ],
      "metadata": {
        "id": "wJO19hnCMFkQ"
      }
    },
    {
      "cell_type": "code",
      "source": [
        "b = \"Sally\"\n",
        "b = int (4)\n",
        "print (b)\n",
        "\n",
        "b = float (4)\n",
        "print (b)\n"
      ],
      "metadata": {
        "colab": {
          "base_uri": "https://localhost:8080/"
        },
        "id": "Jr33N3ylMILI",
        "outputId": "9fd5abc0-7354-4076-cc91-e9ad1e10ad8d"
      },
      "execution_count": 14,
      "outputs": [
        {
          "output_type": "stream",
          "name": "stdout",
          "text": [
            "4\n",
            "4.0\n"
          ]
        }
      ]
    },
    {
      "cell_type": "markdown",
      "source": [
        "Type Function"
      ],
      "metadata": {
        "id": "bB2iZoBbNEiy"
      }
    },
    {
      "cell_type": "code",
      "source": [
        "x = 5\n",
        "y = \"John\"\n",
        "print (type(x))\n",
        "print (type(y))"
      ],
      "metadata": {
        "colab": {
          "base_uri": "https://localhost:8080/"
        },
        "id": "whtU3GAKNG2Z",
        "outputId": "90d0ab31-0df8-469c-99b9-2bf1907bbfed"
      },
      "execution_count": 15,
      "outputs": [
        {
          "output_type": "stream",
          "name": "stdout",
          "text": [
            "<class 'int'>\n",
            "<class 'str'>\n"
          ]
        }
      ]
    },
    {
      "cell_type": "markdown",
      "source": [
        "\"Double qoutes\" or 'Single' qoutes"
      ],
      "metadata": {
        "id": "Z4a0bbu3N2wy"
      }
    },
    {
      "cell_type": "code",
      "source": [
        "y = \"John\"\n",
        "y= 'John'\n",
        "print (y)\n",
        "print (y)"
      ],
      "metadata": {
        "colab": {
          "base_uri": "https://localhost:8080/"
        },
        "id": "ay1jD4ElObux",
        "outputId": "c8e19a5e-e921-4f44-f69d-b4ba9868719c"
      },
      "execution_count": 16,
      "outputs": [
        {
          "output_type": "stream",
          "name": "stdout",
          "text": [
            "John\n",
            "John\n"
          ]
        }
      ]
    },
    {
      "cell_type": "markdown",
      "source": [
        "Case Sensitive"
      ],
      "metadata": {
        "id": "H4mZhr6QOp4C"
      }
    },
    {
      "cell_type": "code",
      "source": [
        "a = 4\n",
        "A = \" Sally \"\n",
        "print (a)\n",
        "print (A)"
      ],
      "metadata": {
        "colab": {
          "base_uri": "https://localhost:8080/"
        },
        "id": "sDrQ9mBgOsyw",
        "outputId": "2b0e2665-abd6-494f-f5f5-9a408485fd2c"
      },
      "execution_count": 20,
      "outputs": [
        {
          "output_type": "stream",
          "name": "stdout",
          "text": [
            "4\n",
            " Sally \n"
          ]
        }
      ]
    },
    {
      "cell_type": "markdown",
      "source": [
        "Multiple Variables"
      ],
      "metadata": {
        "id": "qV2vOBzDO_Ua"
      }
    },
    {
      "cell_type": "code",
      "source": [
        "x, y, z =\"one\", \"two\", \"three\"\n",
        "print (x)\n",
        "print (y)\n",
        "print (z)"
      ],
      "metadata": {
        "colab": {
          "base_uri": "https://localhost:8080/"
        },
        "id": "0VNsqRuFPDcQ",
        "outputId": "85ae75b6-639f-4932-e01e-12a2dda39eb6"
      },
      "execution_count": 21,
      "outputs": [
        {
          "output_type": "stream",
          "name": "stdout",
          "text": [
            "one\n",
            "two\n",
            "three\n"
          ]
        }
      ]
    },
    {
      "cell_type": "markdown",
      "source": [
        "One Value to Multiple Variables"
      ],
      "metadata": {
        "id": "fORxw4j1PYoS"
      }
    },
    {
      "cell_type": "code",
      "source": [
        "x = y = z = \"four\"\n",
        "print (x)\n",
        "print (y)\n",
        "print (z)"
      ],
      "metadata": {
        "colab": {
          "base_uri": "https://localhost:8080/"
        },
        "id": "LLpkIlQHPdkI",
        "outputId": "71d07b29-44c9-49ca-f3c6-eb792b745540"
      },
      "execution_count": 22,
      "outputs": [
        {
          "output_type": "stream",
          "name": "stdout",
          "text": [
            "four\n",
            "four\n",
            "four\n"
          ]
        }
      ]
    },
    {
      "cell_type": "markdown",
      "source": [
        "Output Variables"
      ],
      "metadata": {
        "id": "GAYmb0u5P4F6"
      }
    },
    {
      "cell_type": "code",
      "source": [
        "x = \"enjoying\"\n",
        "print (\"Python programming is \"+x)"
      ],
      "metadata": {
        "colab": {
          "base_uri": "https://localhost:8080/"
        },
        "id": "Ya_Q4FZlP68I",
        "outputId": "83ce2b0a-8192-48b0-db27-4d48d27daee4"
      },
      "execution_count": 24,
      "outputs": [
        {
          "output_type": "stream",
          "name": "stdout",
          "text": [
            "Python programming is enjoying\n"
          ]
        }
      ]
    },
    {
      "cell_type": "markdown",
      "source": [
        "Arithmetic Operations"
      ],
      "metadata": {
        "id": "IZdVTAt-Qcax"
      }
    },
    {
      "cell_type": "code",
      "source": [
        "x = 5\n",
        "y = 3\n",
        "#Exponentiation\n",
        "print (x ** y)\n",
        "#Division\n",
        "print (x/y)\n",
        "#Floor Division\n",
        "print (x//y)\n",
        "#Modulus\n",
        "print (x % y)\n"
      ],
      "metadata": {
        "colab": {
          "base_uri": "https://localhost:8080/"
        },
        "id": "EtCeWQzBRLFo",
        "outputId": "8f216a87-d76c-4d59-d0f5-4417c7244a55"
      },
      "execution_count": 33,
      "outputs": [
        {
          "output_type": "stream",
          "name": "stdout",
          "text": [
            "125\n",
            "1.6666666666666667\n",
            "1\n",
            "2\n"
          ]
        }
      ]
    },
    {
      "cell_type": "markdown",
      "source": [
        "Assignment Operator"
      ],
      "metadata": {
        "id": "B8e2bXezSXZy"
      }
    },
    {
      "cell_type": "code",
      "source": [
        "a, b, c = 0,-1,6\n",
        "c%=3\n",
        "c"
      ],
      "metadata": {
        "colab": {
          "base_uri": "https://localhost:8080/"
        },
        "id": "L8WqTN0BTS4x",
        "outputId": "bf249c00-b4ce-4847-9782-03559fe12a66"
      },
      "execution_count": 37,
      "outputs": [
        {
          "output_type": "execute_result",
          "data": {
            "text/plain": [
              "0"
            ]
          },
          "metadata": {},
          "execution_count": 37
        }
      ]
    },
    {
      "cell_type": "markdown",
      "source": [
        "Comparison Operator"
      ],
      "metadata": {
        "id": "Ik6IV3O5S4gb"
      }
    },
    {
      "cell_type": "code",
      "source": [
        "x = 5\n",
        "y = 10\n",
        "\n",
        "print (x==y)\n",
        "print (x!=y)\n",
        "print (x>y)\n",
        "print (x<y)\n",
        "print (x>=y)\n",
        "print (x<=y)\n"
      ],
      "metadata": {
        "colab": {
          "base_uri": "https://localhost:8080/"
        },
        "id": "8DRagAwtS9vY",
        "outputId": "3a1c84f0-ad75-4643-d6c4-cd663a38c680"
      },
      "execution_count": 39,
      "outputs": [
        {
          "output_type": "stream",
          "name": "stdout",
          "text": [
            "False\n",
            "True\n",
            "False\n",
            "True\n",
            "False\n",
            "True\n"
          ]
        }
      ]
    },
    {
      "cell_type": "markdown",
      "source": [
        "Logical Operators"
      ],
      "metadata": {
        "id": "yPQNsszMTOyK"
      }
    },
    {
      "cell_type": "code",
      "source": [
        "a,b,c = 1,-1,6\n",
        "a>b and c>b"
      ],
      "metadata": {
        "colab": {
          "base_uri": "https://localhost:8080/"
        },
        "id": "Jon0yOVcTjqR",
        "outputId": "f94f7fe0-131c-4d1c-c9a8-61c6d6a69fe8"
      },
      "execution_count": 38,
      "outputs": [
        {
          "output_type": "execute_result",
          "data": {
            "text/plain": [
              "True"
            ]
          },
          "metadata": {},
          "execution_count": 38
        }
      ]
    },
    {
      "cell_type": "markdown",
      "source": [
        "Identify Operators"
      ],
      "metadata": {
        "id": "-PpxxZpfUXv6"
      }
    },
    {
      "cell_type": "code",
      "source": [
        "a,b,c = 0,-1,5\n",
        "a is c"
      ],
      "metadata": {
        "colab": {
          "base_uri": "https://localhost:8080/"
        },
        "id": "Q7z4w3cbUgI4",
        "outputId": "88a8f29b-3cf4-4479-af7b-fbafa1182678"
      },
      "execution_count": 41,
      "outputs": [
        {
          "output_type": "execute_result",
          "data": {
            "text/plain": [
              "False"
            ]
          },
          "metadata": {},
          "execution_count": 41
        }
      ]
    },
    {
      "cell_type": "markdown",
      "source": [
        "Bitwise Operators"
      ],
      "metadata": {
        "id": "LzQikFvPUuaw"
      }
    },
    {
      "cell_type": "code",
      "source": [
        "#Decimal to binary\n",
        "#10=1010\n",
        "\n",
        "x = 10\n",
        "x>>2\n",
        "print (x)"
      ],
      "metadata": {
        "colab": {
          "base_uri": "https://localhost:8080/"
        },
        "id": "t7AwhbacU0cx",
        "outputId": "5fd1691f-7084-4e66-df9e-55e1562e6d46"
      },
      "execution_count": 53,
      "outputs": [
        {
          "output_type": "stream",
          "name": "stdout",
          "text": [
            "10\n"
          ]
        }
      ]
    },
    {
      "cell_type": "markdown",
      "source": [
        "APPLICATION 1"
      ],
      "metadata": {
        "id": "cGSscsnnYPh7"
      }
    },
    {
      "cell_type": "code",
      "source": [
        "#APPLICATION 1\n",
        "\n",
        "#Area of triangle\n",
        "base = 8\n",
        "height = 5\n",
        "area = (1/2) * base * height\n",
        "print (\"The area of triangle is \", area)\n",
        "\n",
        "# Area of circle\n",
        "pi = 3.14\n",
        "r = 5\n",
        "area = pi * r * r\n",
        "print (\"The area of circle is \", area)\n",
        "\n",
        "#Area of square\n",
        "side = 8\n",
        "area = side * side\n",
        "print (\"The area of square is \", area)\n"
      ],
      "metadata": {
        "colab": {
          "base_uri": "https://localhost:8080/"
        },
        "id": "9mSvEHs6YXj5",
        "outputId": "6074222c-bff8-4a36-c9d3-05987ac5f391"
      },
      "execution_count": 71,
      "outputs": [
        {
          "output_type": "stream",
          "name": "stdout",
          "text": [
            "The area of triangle is  20.0\n",
            "The area of circle is  78.5\n",
            "The area of square is  64\n"
          ]
        }
      ]
    }
  ]
}